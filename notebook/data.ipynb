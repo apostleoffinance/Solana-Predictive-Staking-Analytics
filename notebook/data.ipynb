{
 "cells": [
  {
   "cell_type": "code",
   "execution_count": 1,
   "id": "7ce26ad4",
   "metadata": {},
   "outputs": [],
   "source": [
    "from helius import NFTAPI, NameAPI, BalancesAPI, WebhooksAPI, TransactionsAPI\n",
    "from dotenv import load_dotenv\n",
    "from pathlib import Path\n",
    "import requests\n",
    "import pandas as pd\n",
    "import numpy as np\n",
    "import os\n",
    "import time\n",
    "import json"
   ]
  },
  {
   "cell_type": "code",
   "execution_count": 2,
   "id": "329bbba6",
   "metadata": {},
   "outputs": [],
   "source": [
    "HELIUS_API_KEY = os.getenv('HELIUM_API_KEY')\n"
   ]
  },
  {
   "cell_type": "code",
   "execution_count": 3,
   "id": "73759d46",
   "metadata": {},
   "outputs": [],
   "source": [
    "VALIDATORS_API_KEY = os.getenv('VALIDATORS_API_KEY')"
   ]
  },
  {
   "cell_type": "code",
   "execution_count": 4,
   "id": "85871455",
   "metadata": {},
   "outputs": [],
   "source": [
    "pd.set_option('display.max_colwidth', None)  \n",
    "pd.set_option('display.max_columns', None)   \n",
    "pd.set_option('display.width', 200)    \n",
    "pd.set_option('display.float_format', '{:.8f}'.format)"
   ]
  },
  {
   "cell_type": "code",
   "execution_count": 5,
   "id": "d4d2b645",
   "metadata": {},
   "outputs": [],
   "source": [
    "# transactions_api  = TransactionsAPI(HELIUS_API_KEY)\n",
    "\n",
    "# parsed_transaction_history = transactions_api.get_parsed_transaction_history(address=\"HtXa1PH33GGvH3giqMqatndHcKnzeSkwMaW46DTzDfLd\")\n",
    "\n",
    "# print(parsed_transaction_history)"
   ]
  },
  {
   "cell_type": "code",
   "execution_count": 6,
   "id": "f7d21fad",
   "metadata": {},
   "outputs": [],
   "source": [
    "import requests\n",
    "\n",
    "# Replace this with your Helius API key\n",
    "#API_KEY = \"YOUR_HELIUS_API_KEY\"\n",
    "BASE_URL = f\"https://mainnet.helius-rpc.com/?api-key={HELIUS_API_KEY}\"\n",
    "\n",
    "HEADERS = {\"Content-Type\": \"application/json\"}\n",
    "\n",
    "def get_vote_accounts():\n",
    "    payload = {\n",
    "        \"jsonrpc\": \"2.0\",\n",
    "        \"id\": 1,\n",
    "        \"method\": \"getVoteAccounts\"\n",
    "    }\n",
    "    response = requests.post(BASE_URL, json=payload, headers=HEADERS)\n",
    "    if response.status_code == 200:\n",
    "        data = response.json()\n",
    "        current_validators = data[\"result\"][\"current\"]\n",
    "        delinquent_validators = data[\"result\"][\"delinquent\"]\n",
    "        return current_validators, delinquent_validators\n",
    "    else:\n",
    "        print(\"Error fetching vote accounts:\", response.text)\n",
    "        return [], []\n",
    "\n",
    "def get_stake_accounts_by_pubkey(pubkey):\n",
    "    payload = {\n",
    "        \"jsonrpc\": \"2.0\",\n",
    "        \"id\": 1,\n",
    "        \"method\": \"getProgramAccounts\",\n",
    "        \"params\": [\n",
    "            \"Stake11111111111111111111111111111111111111\",  # Stake Program\n",
    "            {\n",
    "                \"encoding\": \"jsonParsed\",\n",
    "                \"filters\": [\n",
    "                    {\n",
    "                        \"memcmp\": {\n",
    "                            \"offset\": 12,\n",
    "                            \"bytes\": pubkey\n",
    "                        }\n",
    "                    }\n",
    "                ]\n",
    "            }\n",
    "        ]\n",
    "    }\n",
    "    response = requests.post(BASE_URL, json=payload, headers=HEADERS)\n",
    "    if response.status_code == 200:\n",
    "        return response.json()[\"result\"]\n",
    "    else:\n",
    "        print(\"Error fetching stake accounts:\", response.text)\n",
    "        return []\n",
    "\n"
   ]
  },
  {
   "cell_type": "code",
   "execution_count": 7,
   "id": "2f6f8626",
   "metadata": {},
   "outputs": [
    {
     "name": "stdout",
     "output_type": "stream",
     "text": [
      "Total active validators: 1288\n",
      "Total delinquent validators: 77\n",
      "Stake accounts for HtXa1PH33GGvH3giqMqatndHcKnzeSkwMaW46DTzDfLd:\n"
     ]
    }
   ],
   "source": [
    "# --- Example Usage ---\n",
    "\n",
    "# Fetch validators\n",
    "current, delinquent = get_vote_accounts()\n",
    "print(f\"Total active validators: {len(current)}\")\n",
    "print(f\"Total delinquent validators: {len(delinquent)}\")\n",
    "\n",
    "# Optionally fetch stake accounts by a delegator pubkey\n",
    "delegator_pubkey = \"HtXa1PH33GGvH3giqMqatndHcKnzeSkwMaW46DTzDfLd\"  # Replace this\n",
    "stakes = get_stake_accounts_by_pubkey(delegator_pubkey)\n",
    "print(f\"Stake accounts for {delegator_pubkey}:\")\n",
    "for s in stakes:\n",
    "    print(s[\"pubkey\"], s[\"account\"][\"data\"][\"parsed\"][\"info\"][\"stake\"])\n"
   ]
  },
  {
   "cell_type": "markdown",
   "id": "10a0027d",
   "metadata": {},
   "source": [
    "# Fetching Validator + Stake Data via Helius API"
   ]
  },
  {
   "cell_type": "markdown",
   "id": "2c39945a",
   "metadata": {},
   "source": [
    "### Vote Data"
   ]
  },
  {
   "cell_type": "code",
   "execution_count": 8,
   "id": "45ca535c",
   "metadata": {},
   "outputs": [
    {
     "data": {
      "text/html": [
       "<div>\n",
       "<style scoped>\n",
       "    .dataframe tbody tr th:only-of-type {\n",
       "        vertical-align: middle;\n",
       "    }\n",
       "\n",
       "    .dataframe tbody tr th {\n",
       "        vertical-align: top;\n",
       "    }\n",
       "\n",
       "    .dataframe thead th {\n",
       "        text-align: right;\n",
       "    }\n",
       "</style>\n",
       "<table border=\"1\" class=\"dataframe\">\n",
       "  <thead>\n",
       "    <tr style=\"text-align: right;\">\n",
       "      <th></th>\n",
       "      <th>activatedStake</th>\n",
       "      <th>commission</th>\n",
       "      <th>epochCredits</th>\n",
       "      <th>epochVoteAccount</th>\n",
       "      <th>lastVote</th>\n",
       "      <th>nodePubkey</th>\n",
       "      <th>rootSlot</th>\n",
       "      <th>votePubkey</th>\n",
       "    </tr>\n",
       "  </thead>\n",
       "  <tbody>\n",
       "    <tr>\n",
       "      <th>0</th>\n",
       "      <td>22843122853697</td>\n",
       "      <td>5</td>\n",
       "      <td>[[778, 545176380, 538290606], [779, 552059588, 545176380], [780, 558930653, 552059588], [781, 565821316, 558930653], [782, 566472173, 565821316]]</td>\n",
       "      <td>True</td>\n",
       "      <td>337864773</td>\n",
       "      <td>1so1ctTM24PdU7RLZJzJKYYVYri3gjNeCd8nmHbpdXg</td>\n",
       "      <td>337864742</td>\n",
       "      <td>scanjszMg2p4pXCZJWNUY8gEN6sCqY2oThXV58NPbWd</td>\n",
       "    </tr>\n",
       "  </tbody>\n",
       "</table>\n",
       "</div>"
      ],
      "text/plain": [
       "   activatedStake  commission                                                                                                                                       epochCredits  epochVoteAccount  \\\n",
       "0  22843122853697           5  [[778, 545176380, 538290606], [779, 552059588, 545176380], [780, 558930653, 552059588], [781, 565821316, 558930653], [782, 566472173, 565821316]]              True   \n",
       "\n",
       "    lastVote                                   nodePubkey   rootSlot                                   votePubkey  \n",
       "0  337864773  1so1ctTM24PdU7RLZJzJKYYVYri3gjNeCd8nmHbpdXg  337864742  scanjszMg2p4pXCZJWNUY8gEN6sCqY2oThXV58NPbWd  "
      ]
     },
     "execution_count": 8,
     "metadata": {},
     "output_type": "execute_result"
    }
   ],
   "source": [
    "# JSON-RPC Payload to fetch validator vote accounts\n",
    "payload = {\n",
    "    \"jsonrpc\": \"2.0\",\n",
    "    \"id\": 1,\n",
    "    \"method\": \"getVoteAccounts\"\n",
    "}\n",
    "\n",
    "response = requests.post(BASE_URL, json=payload)\n",
    "data = response.json()\n",
    "\n",
    "# Combine current + delinquent validators\n",
    "validators = data[\"result\"][\"current\"] + data[\"result\"][\"delinquent\"]\n",
    "\n",
    "# Convert to DataFrame\n",
    "df = pd.DataFrame(validators)\n",
    "df.head(n=1)"
   ]
  },
  {
   "cell_type": "code",
   "execution_count": 9,
   "id": "ea2ec822",
   "metadata": {},
   "outputs": [],
   "source": [
    "# Add additional fields (can be joined with price data or slashing reports)\n",
    "df[\"timestamp\"] = pd.Timestamp.utcnow()\n",
    "df[\"epoch\"] = None  # You can get this via 'getEpochInfo' method\n",
    "\n",
    "# Preview important fields\n",
    "# print(df[[\n",
    "#     \"nodePubkey\", \"commission\", \"activatedStake\", \"lastVote\", \"rootSlot\", \n",
    "#     \"epochCredits\", \"epochVoteAccount\"\n",
    "# ]])\n",
    "\n",
    "df = df[[\n",
    "    \"timestamp\",\"nodePubkey\", \"commission\", \"activatedStake\", \"lastVote\", \"rootSlot\", \n",
    "    \"epochCredits\", \"epochVoteAccount\",\"votePubkey\"\n",
    "]]\n"
   ]
  },
  {
   "cell_type": "code",
   "execution_count": 10,
   "id": "9c84e0cd",
   "metadata": {},
   "outputs": [
    {
     "name": "stdout",
     "output_type": "stream",
     "text": [
      "['timestamp', 'nodePubkey', 'commission', 'activatedStake', 'lastVote', 'rootSlot', 'epochCredits', 'epochVoteAccount', 'votePubkey']\n"
     ]
    }
   ],
   "source": [
    "print(df.columns.tolist())\n"
   ]
  },
  {
   "cell_type": "code",
   "execution_count": 11,
   "id": "90d4fcdf",
   "metadata": {},
   "outputs": [
    {
     "name": "stdout",
     "output_type": "stream",
     "text": [
      "                            timestamp                                    nodePubkey  commission  activatedStake   lastVote   rootSlot  epochVoteAccount  epoch    credits  previous_credits  \\\n",
      "3638 2025-05-04 22:32:36.496945+00:00  138KHwTqKNWGLoo8fK5i8UxYtwoC5tC8o7M9rY1CDEjT           0  35818579022567  337864773  337864742              True    778  635925863         629035066   \n",
      "3639 2025-05-04 22:32:36.496945+00:00  138KHwTqKNWGLoo8fK5i8UxYtwoC5tC8o7M9rY1CDEjT           0  35818579022567  337864773  337864742              True    779  642817650         635925863   \n",
      "3640 2025-05-04 22:32:36.496945+00:00  138KHwTqKNWGLoo8fK5i8UxYtwoC5tC8o7M9rY1CDEjT           0  35818579022567  337864773  337864742              True    780  649701256         642817650   \n",
      "3641 2025-05-04 22:32:36.496945+00:00  138KHwTqKNWGLoo8fK5i8UxYtwoC5tC8o7M9rY1CDEjT           0  35818579022567  337864773  337864742              True    781  656598333         649701256   \n",
      "3642 2025-05-04 22:32:36.496945+00:00  138KHwTqKNWGLoo8fK5i8UxYtwoC5tC8o7M9rY1CDEjT           0  35818579022567  337864773  337864742              True    782  657249655         656598333   \n",
      "\n",
      "      credits_earned                                    votePubkey  \n",
      "3638         6890797  ASfKFAKz6fH4eip1jdLGt5Ym954kU9KYnwq2Csn9ogSz  \n",
      "3639         6891787  ASfKFAKz6fH4eip1jdLGt5Ym954kU9KYnwq2Csn9ogSz  \n",
      "3640         6883606  ASfKFAKz6fH4eip1jdLGt5Ym954kU9KYnwq2Csn9ogSz  \n",
      "3641         6897077  ASfKFAKz6fH4eip1jdLGt5Ym954kU9KYnwq2Csn9ogSz  \n",
      "3642          651322  ASfKFAKz6fH4eip1jdLGt5Ym954kU9KYnwq2Csn9ogSz  \n"
     ]
    }
   ],
   "source": [
    "expanded_rows = []\n",
    "\n",
    "for idx, row in df.iterrows():\n",
    "    node_pubkey = row['nodePubkey']\n",
    "    votePubkey = row['votePubkey']\n",
    "    for epoch_info in row['epochCredits']:\n",
    "        epoch, current_credits, previous_credits = epoch_info\n",
    "        credits_earned = current_credits - previous_credits\n",
    "        expanded_rows.append({\n",
    "            'timestamp': row['timestamp'],\n",
    "            'nodePubkey': node_pubkey,\n",
    "            'commission': row['commission'],\n",
    "            'activatedStake': row['activatedStake'],\n",
    "            'lastVote': row['lastVote'],\n",
    "            'rootSlot': row['rootSlot'],\n",
    "            'epochVoteAccount': row['epochVoteAccount'],\n",
    "            'epoch': epoch,\n",
    "            'credits': current_credits,\n",
    "            'previous_credits': previous_credits,\n",
    "            'credits_earned': credits_earned,\n",
    "            'votePubkey' : votePubkey\n",
    "        })\n",
    "\n",
    "df_expanded = pd.DataFrame(expanded_rows)\n",
    "df_expanded.sort_values(by=['nodePubkey', 'epoch'], inplace=True)\n",
    "print(df_expanded.head())\n"
   ]
  },
  {
   "cell_type": "markdown",
   "id": "7ea5646b",
   "metadata": {},
   "source": [
    "### Annual Inflation Rate\n",
    "Purpose: Use this to contextualize staking APY and understand network reward distribution.\n",
    "\n",
    "\n",
    "\n"
   ]
  },
  {
   "cell_type": "code",
   "execution_count": 12,
   "id": "0d9e79a0",
   "metadata": {},
   "outputs": [
    {
     "name": "stdout",
     "output_type": "stream",
     "text": [
      "   epoch  foundation      total  validator                        timestamp\n",
      "0    782  0.00000000 0.04554517 0.04554517 2025-05-04 22:32:37.664215+00:00\n"
     ]
    }
   ],
   "source": [
    "def get_inflation_rate():\n",
    "    payload = {\n",
    "        \"jsonrpc\": \"2.0\",\n",
    "        \"id\": 1,\n",
    "        \"method\": \"getInflationRate\"\n",
    "    }\n",
    "    response = requests.post(BASE_URL, json=payload, headers=HEADERS)\n",
    "    if response.status_code == 200:\n",
    "        data = response.json()\n",
    "        #return data[\"result\"]\n",
    "        result = data[\"result\"]\n",
    "        result[\"timestamp\"] = pd.Timestamp.utcnow()  # Add timestamp\n",
    "        return result \n",
    "    else:\n",
    "        print(\"Error fetching inflation rate:\", response.text)\n",
    "        return {}\n",
    "\n",
    "# Fetch and convert to DataFrame\n",
    "inflation_data = get_inflation_rate()\n",
    "df_inflation = pd.DataFrame([inflation_data])  # Single row\n",
    "print(df_inflation.head(n=1))"
   ]
  },
  {
   "cell_type": "markdown",
   "id": "d450ff59",
   "metadata": {},
   "source": [
    "### Staking Rewards - Inflation Rate\n",
    "This is critical for calculating APY\n",
    "\n",
    "\n",
    "- amount: Rewards in lamports (e.g., 1,863,991,600 lamports ≈ 1.863 SOL).\n",
    "\n",
    "- effectiveSlot: Slot when rewards were applied.\n",
    "\n",
    "- epoch: Epoch number.\n",
    "\n",
    "- postBalance: Account balance after rewards (in lamports).\n",
    "\n",
    "- commission: Validator’s commission rate\n",
    "\n",
    "\n"
   ]
  },
  {
   "cell_type": "code",
   "execution_count": 13,
   "id": "d1af2e1c",
   "metadata": {},
   "outputs": [
    {
     "name": "stdout",
     "output_type": "stream",
     "text": [
      "   amount  commission  effectiveSlot  epoch  postBalance                        timestamp\n",
      "0       0           0      337824000    781    171285600 2025-05-04 22:33:53.718058+00:00\n"
     ]
    }
   ],
   "source": [
    "def get_inflation_reward(vote_accounts, epoch=None):\n",
    "    payload = {\n",
    "        \"jsonrpc\": \"2.0\",\n",
    "        \"id\": 1,\n",
    "        \"method\": \"getInflationReward\",\n",
    "        \"params\": [vote_accounts, {\"commitment\": \"finalized\"}]\n",
    "    }\n",
    "    if epoch is not None:\n",
    "        payload[\"params\"].append({\"epoch\": epoch})\n",
    "        \n",
    "    response = requests.post(BASE_URL, json=payload, headers=HEADERS)\n",
    "    \n",
    "    if response.status_code == 200:\n",
    "        data = response.json()\n",
    "        result = data[\"result\"]\n",
    "        \n",
    "        # Add timestamp to each reward entry\n",
    "        timestamp = pd.Timestamp.utcnow()\n",
    "        for entry in result:\n",
    "            if entry is not None:  # Some entries may be None\n",
    "                entry[\"timestamp\"] = timestamp\n",
    "        \n",
    "        return result\n",
    "    else:\n",
    "        print(\"Error fetching inflation reward:\", response.text)\n",
    "        return []\n",
    "\n",
    "\n",
    "# Get validator-specific inflation rewards\n",
    "validator_addresses = df_expanded[\"votePubkey\"].tolist()\n",
    "rewards = get_inflation_reward(validator_addresses[:10])  # Max 50 addresses per call\n",
    "\n",
    "inflation_reward = pd.DataFrame(rewards)\n",
    "print(inflation_reward.head(n=1))"
   ]
  },
  {
   "cell_type": "markdown",
   "id": "f3ab6487",
   "metadata": {},
   "source": [
    "### Total Network Credits\n",
    "\n",
    "Use total network credits to normalize your validator’s credits_earned and assess relative performance. Also provides epoch context.\n",
    "\n"
   ]
  },
  {
   "cell_type": "code",
   "execution_count": 14,
   "id": "17c2463b",
   "metadata": {},
   "outputs": [
    {
     "name": "stdout",
     "output_type": "stream",
     "text": [
      "   absoluteSlot  blockHeight  epoch  slotIndex  slotsInEpoch  transactionCount                        timestamp\n",
      "0     337864974    316090625    782      40974        432000      402255642241 2025-05-04 22:33:54.497805+00:00\n"
     ]
    }
   ],
   "source": [
    "def get_epoch_info():\n",
    "    payload = {\n",
    "        \"jsonrpc\": \"2.0\",\n",
    "        \"id\": 1,\n",
    "        \"method\": \"getEpochInfo\"\n",
    "    }\n",
    "    response = requests.post(BASE_URL, json=payload, headers=HEADERS)\n",
    "    if response.status_code == 200:\n",
    "        data = response.json()\n",
    "        result = data[\"result\"]\n",
    "        result[\"timestamp\"] = pd.Timestamp.utcnow()  # Add timestamp\n",
    "        return result \n",
    "    else:\n",
    "        print(\"Error fetching epoch info:\", response.text)\n",
    "        return {}\n",
    "\n",
    "# Fetch and convert to DataFrame\n",
    "epoch_info = get_epoch_info()\n",
    "df_epoch = pd.DataFrame([epoch_info])\n",
    "print(df_epoch.head(n=1))"
   ]
  },
  {
   "cell_type": "markdown",
   "id": "6ec995e6",
   "metadata": {},
   "source": [
    "## Circulating SOL Supply\n",
    "\n"
   ]
  },
  {
   "cell_type": "code",
   "execution_count": 15,
   "id": "7ec72572",
   "metadata": {},
   "outputs": [
    {
     "name": "stdout",
     "output_type": "stream",
     "text": [
      "          circulating     nonCirculating  \\\n",
      "0  518193300520267163  81868553321360705   \n",
      "\n",
      "                                                                                                                                                                                                                                                                                                                                                                                                                                                                                                                                                                                                                                                                                                                                                                                                                                                                                                                                                                                                                                                                                                                                                                                                                                                                                                                                                                                                                                                                                                                                                                                                                                                                                                                                                                                                                                                                                                                                                                                                                                                                                                                                                                                                                                                                                                                                                                                                                                                                                                                                                                                                                                                                                                                                                                                                                                                                                                                                                                                                                                                                                                                                                                                                                                                                                                                                                                                                                                                                                                                                                                                                                                                                                                                                                                                                                                                                                                                                                                                                                                                                                                                                                                                                                                                                                                                                                                                                                                                                                                                                                                                                                                                                                                                                                                      nonCirculatingAccounts  \\\n",
      "0  [7hKNbAFrAgwkUkvRdqSprANcxRBQ3GqeAH1TnmRHyqq, 55eCfjA7hnhB43JhKnaVUStsAieWzrHiqA6zN6kzEBdK, 4ce2uUefLn8jUcju6zzoTRtYyayyyvYeBBS3ho2tTmnc, CX7QXAZ2NoZQSiu2cAcHMddHmCmN6fCaF6oNbgkVf1W1, FhAyQhEs5JRBPTf6mNQyEgxHAfY9ZfRkz9CiWTLQnX6P, 3DoqvYjiZ6eCSKvGunEuUkrCwYvsbhF1YnD2LyauJrBu, FkJ3fbji7yUQMmirYDdEaadxn61Rn1GFtPqZZUJwGxEx, 2RXJyfWZ1EVxbyZbZkDS9iRe3DqnNc5WjD5diWFuxTH7, 6xpKff4rQrNDfNYVFhfYmMR4bXqw7uFb9PyAsxJ4fJES, 3RsFMwxTAjF7bTz6e3wEGccjJgTkXS4PS4ARYKp2mKmV, 8grizDtmKwRiQTnmYenhxQhPiNjdAHiqitzTr3T1qUFz, Cj57cppebAhzLJJuznsmUx5D34kVwcnNNshwDXhqymjZ, 7Pb5qewG2oR23i6E66N6i1a3c46oNj7Me2kWoxvBpbWw, CwkrYGkFn3TEHDs8bhdEpyxBwbVNADvcZ2zyidaKhufR, 8uJNRVQ8MUH7moFXJLM1WEuo4FvBR2otDdK4E4B5kAnn, 6XBWU7uVmKqkSrcqEb9LmwAEqeiovKuxDyYS85BC5ADB, E1g8EYxWUGPqxjYpBwbyKRvnpY571vsPk2wd7NTSPvzZ, JDdsHSW4KWT7LZcJEjFyF9dQsEoL4t4vUHSB9s7tLbqh, CAkpJPU7esDLWt9xo9LWHjSh5NKzoeGw5nryDKCUrUgP, CSX2d6gdpRCvazAVvnZpuRdE3FWMfjfh7GqTiUrAyqAF, ACRu2J24fBBC2iRBsRCcfmtSCKSx39nNGwSsNRsoppN, DtPsVdNuPgAxrt2G4eejmYSjq4vb6CGfqQsWURZbE5yT, FYaJDz6An8SqtEg3AHA7Yjduki7YsMdZyV4vLobq55KX, 8vtMcKCqgrRX6ncZmNbL2dgjkWcQDKtabXkcJ6zqZTGP, CW9raEyQF4whcQMBoJZPTpc1nc9BG6bga39yfYTtTt89, 8458n2yxAcpgEVbsbW4PqYEMqtM3wwEUd2TN5vak6r2W, B9vf9vuAQpr8wf9iHeFyaTbkm9Gu1PcixToJS87yA784, 6hzJGPLGuz8cFTGfxmKe5kV9JVK6LjnkD3fkuSjfH2FP, 9RjuRVdt35j4ByN4LoBPKmTFL1xEmJZrGDE41NMQfqLE, 5wCeVC4yFzog1qFmFTka7GAVDiuuLerMWxD6nCqyejxC, 9bzv18Pj6N7tJDpTMH49L35RsAbqYdGjzUqHHBqxTPuL, 2YvfhUF6eoyjgQjRdUnLQ8U7HAc9TA4U6CBCewxvjubs, BPCd8s6Eq3B4r2qak1TJXLA7XgU6emGXYfJTKi1HxbF1, 4VTaJLQHFq6Rjjk2b8n1oEwCRxNMBeyfFy2rgZMhXcom, CpMHmLQXso7MG53p3wyRmTtqa95Qh5irxhaLcm7qvW7N, BbdQ3XcA6WMtM8XHyPLLcwW3XmUHLAJu8uNWcwWUhnx6, 3zGpXA4jDkC3hKPnasy7Lp5jx8sbwApFAbLNxU5ebRva, 5PLJZLJiRR9vf7d1JCCg7UuWjtyN9nkab9uok6TqSyuP, 5RApqPxKadvJyq2YukEvkDM7brQdkj7ZzpyxfJrK4c8u, 5frSCEALmussHL8HyjgnBQix7BBoVB4XVeuSTq2YcXGK, Bf2NskrojFkLT7NGWEoUGN9dq7xCSgM9gHuon559geLW, FwVr3vy9McdaNBo4YF8CBZu8GKKhaZcB8w6MA8FSidyd, 5hxx7Xsdbd89Lf49Mnkx633JYD4VeZzB9gSZ9YdYEnc7, C6y3j6YhSskpPb1BKwHJ6pG5CKyrz7E8ChfeM9UWxmoU, DR7dyxkyjnKZ7iDDtxxS6Gpdf4aRNa4B6tJaZPWcnjTT, A2uMRkTkH6EQ81sPGoEMJzQwxCv1L3hXg5KULusYVa8b, 8ciVMq2RyJszNjrrSu4TnhtNe2XXLj6sbQwLuTbJKjKi, B7fV6ScQhceUmQdbpfdWAAi3MkjKoE53AQP5pwUoTVL3, 7nnEWLvcQwgtyJdhktp5m8ZVey87hGDep1MHaAE4aPng, 4my1URZuB64cU3A5p1DbccxYYqUuYSuwxStM6HYV6Fdd, Hptsctr6MtFhqw3D5G1QoRo3ev9o5PXFLAmPKAJSF5Jc, 9vYNxmEfUBLpKDwWvgLFrKdhG2awPyFnrszowE5VeBxc, AzVV9ZZDxTgW4wWfJmsG6ytaHpQGSe1yz76Nyy84VbQF, B5524KJXrDyY7EjP3cekJLWaiLDQafyn6ZQMaev5ZhFZ, F3iLbrgkn6QJvSYrwMxWiThDaP64KftdGq6q8YbgNJSo, DFwxMQVvXhR7NkyL8UAMxi1zpDG4jRQDBdwBdPNWykrY, 25WbQsWNyE63CE6py255byxRSqw7ZLYq1kbGFqmswb6k, CR2M7FqiUQCWAnwgn1XieKt8x43BEYqoUerBh9mFTUH6, 6LdoBcdFseQdtNQTrDHX7mzVJvdubvR89NjrHKVhW5S5, GgSQWzYy87jyJ5NKH1AsPRpHqi44Pm9o57z4hF1PqXqj, 2EohFcDshRymJabVYzN51gQr7uk2irD9GkuEpM3VmbC6, AHwgZWDQLVAvBrxABfFRnCvMKePR9Wp2awWiZCS8CqXU, GNdnTjW9GrzuV66Bykf7fMw3gdPfvjNNHo4AoUw7XaaE, BBEVe3dzyEM1sc7k9XFdXa746dGuYCPKcXBGJHKXCDTW, 91E333AY1nsCUvn5XMfV3JU9BNGpDkQwtTggAndHsopW, J3d7MDV2DBN5PMmY4MTvfeaDKb1vnbd1Wvb2KjXQTwun, 84KyKRLFQsc6QCUTM3WBZW1pYmjFp9iDbvvkTFHsbhR2, 5raNcabrLL4eQdEDbqqTTcZTQ9tBT4SNe2Avf6fY3oat, 78FG6zQwJPrEQPUACSoHMm9wPoXrWyd34vmtAn8pRQ9r, E4D8YGVP9YVUrPRQhfxsj7bxHcKZ261pkfEMhRVCq7E7, 282US65B9kZxGPZfaTF7fWSJBEdSd7dVP3rm5ckKsfvX, 5kKULeHDq2WcksVUpaz9FWNrpCV7picQiEdUG1Qt9izF, EWyLXoSySkPnrg62DJn4uXLArNszFiDiQ7ocLPMSvHs1, D7qm4Pbo1fS4eJd4AMtqjSxHahCDEbQQyWc7Mw7kg9kd, 54VfHHuXz1QwZEPpVpmASxkqrV9LpLvzfsftFL6CAt8s, FjtGgDkehaC644nvMRqUPAJrAqnCQ4u6LxgFSgmdsYjB, 3iJnVQYuihtvACPp68xEyR4ZYucqwCu5v4BZu9rNRqFt, FuJWDL3cU8jF8gtaiTY5AubT1np219jbv7htqBTjHkFu, AsSHv6bEXnLRG6zwALQJanpRv6LdFXY8JDpvYT1k5XGM, ESvfkmeqSE9g4dgRyXT6YZcBaqbFqddrMyVicbe4Y8A2, 63gC19YmkDq5DapwccqRmYUAsUxBHQ8AEcpsi8gNXF9S, HNhaeu36rfsmsdCifcF9nTCzjkD5ntXgeVF5J2hi6Rm, 55spGPjsgUQZxkZRPFEsU4zFo766fG2WgXxeraGrmKLe, DD819h63ZTf6Lcw51ruEeeHWrk7tdjVWuvTX6nfo5Jbp, 9AkVywwPBaFuGLui2mhQYGdL9gHuFhZqwKKpRqXJ3Hxq, 817nwxvFPUfLJ2qXN2NAHgrEBTdewy1VgzXUwvtKukeU, 4rRJ9Q3xRUU4eV5Wd7CvtS9PtTcSrKJpyLd2mqRHfkKp, 6sNk9xNNqUhqtoCvFB6PkwUzD2SkXv9HUchyK7yCDEfr, 8kckX6jZmTP6x7unLWULJ9xwUAjCR8wSCVQNxDgcZNXA, emCd7UVH1TudSfHD7FtSwLXvWXhev36RhNFEue6K5ud, 6D9pQAtkgSvqAHFvauQ9gFu3aSToXAqFMrZHnZ7Vtitv, FEbfp18homeZiED2gtMFfrbWkxdxW88FB1aQU6fDXJJG, 9yoi7PjisLQeqDmpuKcj2s3occskoKvq2eKsKrfRRWKq, Ef25KtuxLQNqvo41M1Mtt5BsDPF7p15MbqYbGEBcpJBo, BtKe5jWBdP7hnKgH1J6STggcmzKrPhGdFVgtqFcJYARp, 2xKnUJZDwJB2UDAFdhJ7tFLEsaw7DTR7o9QyfuxxfxJW, DDJj7fKrVmA79yxSqMfrrFJFQrQXseyBePkHkTsxYj6f, GakMVmMehUEDEK5BQR9bamZieWMtoXerKmkqKzZGvKFJ, 5iWqJSPXmtUaddciaSoH31tdBu2G2RzPVv4SFXAW1WQi, 8f62ztLdZZqBzbETdhYqQr3Ey111x5fnBFtPoQ8XeHMF, ...]   \n",
      "\n",
      "                total  \n",
      "0  600061853841627868  \n"
     ]
    }
   ],
   "source": [
    "def get_supply():\n",
    "    payload = {\n",
    "        \"jsonrpc\": \"2.0\",\n",
    "        \"id\": 1,\n",
    "        \"method\": \"getSupply\",\n",
    "        \"params\": [{\"commitment\": \"finalized\"}]\n",
    "    }\n",
    "    response = requests.post(BASE_URL, json=payload, headers=HEADERS)\n",
    "    if response.status_code == 200:\n",
    "        data = response.json()\n",
    "        return data[\"result\"][\"value\"]\n",
    "    else:\n",
    "        print(\"Error fetching supply:\", response.text)\n",
    "        return {}\n",
    "\n",
    "# Fetch and convert to DataFrame\n",
    "supply_data = get_supply()\n",
    "df_supply = pd.DataFrame([supply_data])\n",
    "print(df_supply.head(n=1))"
   ]
  },
  {
   "cell_type": "code",
   "execution_count": 16,
   "id": "8181d756",
   "metadata": {},
   "outputs": [
    {
     "name": "stdout",
     "output_type": "stream",
     "text": [
      "     circulating_sol  nonCirculating_sol          total_sol\n",
      "0 518193300.52026713   81868553.32136071 600061853.84162796\n"
     ]
    }
   ],
   "source": [
    "import pandas as pd\n",
    "\n",
    "# If df_supply is already created:\n",
    "df_supply['circulating'] = df_supply['circulating'].astype(float)\n",
    "df_supply['nonCirculating'] = df_supply['nonCirculating'].astype(float)\n",
    "df_supply['total'] = df_supply['total'].astype(float)\n",
    "# Optionally convert to billions for readability:\n",
    "df_supply['circulating_sol'] = df_supply['circulating'] / 1e9\n",
    "df_supply['nonCirculating_sol'] = df_supply['nonCirculating'] / 1e9\n",
    "df_supply['total_sol'] = df_supply['total'] / 1e9\n",
    "# If you want a DataFrame where each nonCirculatingAccount is its own row:\n",
    "df_accounts = pd.DataFrame(df_supply['nonCirculatingAccounts'][0], columns=['nonCirculatingAccount'])\n",
    "\n",
    "# Resulting outputs:\n",
    "df_supply = df_supply[['circulating_sol', 'nonCirculating_sol', 'total_sol']]\n",
    "print(df_supply)\n",
    "#print(df_supply[['circulating_sol', 'nonCirculating_sol', 'total_sol']])\n",
    "#print(df_accounts.head())\n"
   ]
  },
  {
   "cell_type": "markdown",
   "id": "17a45160",
   "metadata": {},
   "source": [
    "###  Transactions Per Second (TPS)\n",
    "\n"
   ]
  },
  {
   "cell_type": "code",
   "execution_count": 17,
   "id": "6a5e2e94",
   "metadata": {},
   "outputs": [
    {
     "name": "stdout",
     "output_type": "stream",
     "text": [
      "TPS DataFrame:\n",
      "                         timestamp           tps\n",
      "0 2025-05-04 22:34:02.847892+00:00 4385.11666667\n"
     ]
    }
   ],
   "source": [
    "def get_tps():\n",
    "    payload = {\n",
    "        \"jsonrpc\": \"2.0\",\n",
    "        \"id\": 1,\n",
    "        \"method\": \"getRecentPerformanceSamples\",\n",
    "        \"params\": [1]  # Fetch 1 sample\n",
    "    }\n",
    "    response = requests.post(BASE_URL, json=payload, headers=HEADERS)\n",
    "    if response.status_code == 200:\n",
    "        data = response.json()\n",
    "        sample = data[\"result\"][0]\n",
    "        tps = sample[\"numTransactions\"] / sample[\"samplePeriodSecs\"]\n",
    "        return tps\n",
    "    else:\n",
    "        print(\"Error fetching TPS:\", response.text)\n",
    "        return 0\n",
    "\n",
    "# Fetch TPS\n",
    "tps = get_tps()\n",
    "df_tps = pd.DataFrame({\"timestamp\": [pd.Timestamp.utcnow()], \"tps\": [tps]})\n",
    "print(\"TPS DataFrame:\")\n",
    "print(df_tps.head())"
   ]
  },
  {
   "cell_type": "markdown",
   "id": "b7c34965",
   "metadata": {},
   "source": [
    "### SOL Price (Using CoinGecko)\n",
    "\n"
   ]
  },
  {
   "cell_type": "code",
   "execution_count": 18,
   "id": "419ecc0e",
   "metadata": {},
   "outputs": [
    {
     "name": "stdout",
     "output_type": "stream",
     "text": [
      "SOL Price DataFrame:\n",
      "                         timestamp  sol_price_usd\n",
      "0 2025-05-04 22:34:03.610374+00:00   146.07000000\n"
     ]
    }
   ],
   "source": [
    "def get_sol_price():\n",
    "    url = \"https://api.coingecko.com/api/v3/simple/price?ids=solana&vs_currencies=usd\"\n",
    "    response = requests.get(url)\n",
    "    if response.status_code == 200:\n",
    "        data = response.json()\n",
    "        return data[\"solana\"][\"usd\"]\n",
    "    else:\n",
    "        print(\"Error fetching SOL price:\", response.text)\n",
    "        return 0\n",
    "\n",
    "# Fetch SOL price\n",
    "sol_price = get_sol_price()\n",
    "df_price = pd.DataFrame({\"timestamp\": [pd.Timestamp.utcnow()], \"sol_price_usd\": [sol_price]})\n",
    "print(\"SOL Price DataFrame:\")\n",
    "print(df_price.head())"
   ]
  },
  {
   "cell_type": "code",
   "execution_count": 19,
   "id": "a17d318b",
   "metadata": {},
   "outputs": [
    {
     "name": "stdout",
     "output_type": "stream",
     "text": [
      "Network Fees DataFrame:\n",
      "                         timestamp  avg_fee_lamports  avg_fee_sol  avg_fee_usd\n",
      "0 2025-05-04 22:35:19.150059+00:00     5000.00000000   0.00000500   0.00073035\n"
     ]
    }
   ],
   "source": [
    "def get_recent_priority_fees():\n",
    "    payload = {\n",
    "        \"jsonrpc\": \"2.0\",\n",
    "        \"id\": 1,\n",
    "        \"method\": \"getRecentPrioritizationFees\",\n",
    "        \"params\": [[]]  # Empty accounts for global fees\n",
    "    }\n",
    "    response = requests.post(BASE_URL, json=payload, headers=HEADERS)\n",
    "    if response.status_code == 200:\n",
    "        data = response.json()\n",
    "        fees = [f[\"prioritizationFee\"] for f in data[\"result\"]]\n",
    "        avg_fee = sum(fees) / len(fees) if fees else 0  # Micro-lamports\n",
    "        return avg_fee / 1e6  # Convert to lamports\n",
    "    else:\n",
    "        print(\"Error fetching priority fees:\", response.text)\n",
    "        return 0\n",
    "\n",
    "# Fetch average priority fee\n",
    "avg_priority_fee = get_recent_priority_fees()\n",
    "base_fee = 5000  # Static base fee per signature\n",
    "avg_fee = base_fee + avg_priority_fee  # Total average fee\n",
    "df_fees = pd.DataFrame({\n",
    "    \"timestamp\": [pd.Timestamp.utcnow()],\n",
    "    \"avg_fee_lamports\": [avg_fee],\n",
    "    \"avg_fee_sol\": [avg_fee / 1e9],\n",
    "    \"avg_fee_usd\": [avg_fee / 1e9 * sol_price]\n",
    "})\n",
    "print(\"Network Fees DataFrame:\")\n",
    "print(df_fees.head())"
   ]
  },
  {
   "cell_type": "code",
   "execution_count": 20,
   "id": "5dca3e0d",
   "metadata": {},
   "outputs": [
    {
     "name": "stdout",
     "output_type": "stream",
     "text": [
      "Fetched 1291 validators.\n",
      "   network                                       account                                            name keybase_id                      www_url  \\\n",
      "0  mainnet   Tri1F8B6YtjkBztGCwBNSLEZib1EAqMUEUM7dTT7ZG3         Trillium: Stake, Earn, and Fuel Solana!                     https://trillium.so   \n",
      "1  mainnet  5NiHw5LZn1FiL848XzbEBxuygbNvMJ7CsPvXNC8VmCLN                                        Bukashka   bukashka  https://keybase.io/bukashka   \n",
      "2  mainnet   LodeuWMHPiPj2PUHUyca2bkpFv9HyzR3gaDBmGJ9TSS                             The Lode (Sentries)   the_lode          https://sentries.io   \n",
      "3  mainnet  FYWeJ3uyJRHPUYj84ebhPAa7ZTeq9WU8LHQaKAgDcF74  StakeRocket 🚀 0% Fee + Jito MEV 💰 Boosted APY!                 https://stakerocket.org   \n",
      "4  mainnet   NLMSHTjmSiRxGJPs3uaqtsFBC2dTGYwK41U18Nmw5kH                                 T-STAKE Systems                     https://t-stake.com   \n",
      "\n",
      "                                                                                                                                                                                                                                            details  \\\n",
      "0                                                                                                                       Trillium is passionate about Solana. Your stake helps fuel the Solana ecosystem growth. Join the Trillium revolution today!   \n",
      "1  High-performing and reliable Linux server! Stake your SOL on a dedicated security professional, using the latest generation enterprise hardware in a secure data center. My monitoring dashboard is available on https://metrics.stakeconomy.com   \n",
      "2                                                                                                                     A Sentries-branded Solana Validator. The sustainable foundation and liquidity reserve for the rest of the Sentries ecosystem.   \n",
      "3                                                                                                                                                                        Trustworthy and high performance validator. Stake with us and take profit.   \n",
      "4                                                                    T-STAKE Systems validator. We prioritize reliability, security, and performance to ensure the integrity of the Solana blockchain. Join us in shaping the decentralized future.   \n",
      "\n",
      "                                                                                        avatar_url               created_at               updated_at admin_warning  jito  jito_commission  \\\n",
      "0                                                      https://trillium.so/pages/trillium-logo.gif  2024-02-05 07:18:29 UTC  2025-04-24 03:40:06 UTC          None  True    1000.00000000   \n",
      "1  https://s3.amazonaws.com/keybase_processed_uploads/fb24f77ecff1ba40f4e268d1638e6505_360_360.jpg  2021-12-23 17:00:18 UTC  2025-04-29 03:40:05 UTC          None  True    1000.00000000   \n",
      "2                                                       https://www.sentries.io/img/the_lode_1.png  2022-07-01 00:39:22 UTC  2025-03-30 03:40:06 UTC          None  True     800.00000000   \n",
      "3                                                             https://stakerocket.org/logo.png?v=1  2024-02-28 13:33:27 UTC  2025-04-01 03:35:11 UTC          None  True       0.00000000   \n",
      "4                          https://t-stake.com/wp-content/uploads/2024/10/T-STAKE-Systems-icon.png  2024-03-26 19:15:54 UTC  2025-04-24 03:40:06 UTC          None  True    1000.00000000   \n",
      "\n",
      "           stake_pools_list  is_active                                                                   avatar_file_url     active_stake  authorized_withdrawer_score  commission  \\\n",
      "0                    [Aero]       True  https://prod-validators.nyc3.digitaloceanspaces.com/q9vc571sfqqz3o9jbpk3x6g8t22y  239874967809218                            0           5   \n",
      "1                    [Jito]       True  https://prod-validators.nyc3.digitaloceanspaces.com/4s2xetcy19wdb3biy4h41j8sxsbv  186206470356840                            0           0   \n",
      "2    [BlazeStake, Marinade]       True  https://prod-validators.nyc3.digitaloceanspaces.com/l3hj2tbix0tyf3wjh74jzr1hqunz   67359733042252                            0           1   \n",
      "3                   [Jpool]       True  https://prod-validators.nyc3.digitaloceanspaces.com/k0rykomloo4uwcnm35z7ddv9lwpy   23442945700989                            0           0   \n",
      "4  [BlazeStake, Jito, Aero]       True  https://prod-validators.nyc3.digitaloceanspaces.com/0odadetmba2kfdjss3dxysjnafyw  201724467240514                            0           0   \n",
      "\n",
      "   data_center_concentration_score  delinquent  published_information_score  root_distance_score  security_report_score  skipped_slot_score  skipped_after_score software_version  \\\n",
      "0                                0       False                            2                    2                      1                   2                    2      0.411.20121   \n",
      "1                                0       False                            2                    2                      1                   2                    0           2.1.21   \n",
      "2                                0       False                            2                    2                      1                   2                    2           2.1.21   \n",
      "3                                0       False                            2                    2                      1                   2                    2           2.1.21   \n",
      "4                                0       False                            2                    2                      1                   2                    2           2.1.21   \n",
      "\n",
      "   software_version_score  stake_concentration_score  consensus_mods_score  vote_latency_score  total_score  vote_distance_score              ip             data_center_key  \\\n",
      "0                       2                          0                     0          2.00000000           13                    2  185.229.190.79          60068-NL-Amsterdam   \n",
      "1                       2                          0                     0          2.00000000           13                    2  217.170.206.38        34989-NO-Europe/Oslo   \n",
      "2                       2                          0                     0          2.00000000           13                    2   50.115.47.170              18450-US-Ogden   \n",
      "3                       2                          0                     0          2.00000000           13                    2   37.61.211.123  29066-DE-Frankfurt am Main   \n",
      "4                       2                          0                     0          2.00000000           13                    2   185.167.205.3   57758-NL-Europe/Amsterdam   \n",
      "\n",
      "   autonomous_system_number latitude  longitude data_center_host                                  vote_account   epoch_credits        epoch  skipped_slots skipped_slot_percent  ping_time  \\\n",
      "0                     60068  52.3385     4.9168             None   tri1cHBy47fPyhCvrCf6FnR7Mz6XdSoSBah2FsZVQeT 647779.00000000 782.00000000     0.00000000                  0.0        NaN   \n",
      "1                     34989  59.9463    10.7541             None  FGj3nQTn2Lwe9KkaKnFGm4HcxLSh8B8TjpvP4CinP4iX 648333.00000000 782.00000000     0.00000000                  0.0        NaN   \n",
      "2                     18450  41.2627  -111.9837                9   LodezVTbz3v5GK6oULfWNFfcs7D4rtMZQkmRjnh65gq 647846.00000000 782.00000000     0.00000000                  0.0        NaN   \n",
      "3                     29066  50.1169     8.6837             None  G5dZZ3J95jER4v7N5LBg73ybxfg9RxFBpVc3LAY57UPu 648339.00000000 782.00000000            NaN                  NaN        NaN   \n",
      "4                     57758  52.3824     4.8995             None  H4QVPxS7napq3NEYxqLhxbKi9nJ8s56dD2EQZGsyZ3sb 648270.00000000 782.00000000     0.00000000                  0.0        NaN   \n",
      "\n",
      "                                                                                                 url  \n",
      "0   https://www.validators.app/api/v1/validators/mainnet/Tri1F8B6YtjkBztGCwBNSLEZib1EAqMUEUM7dTT7ZG3  \n",
      "1  https://www.validators.app/api/v1/validators/mainnet/5NiHw5LZn1FiL848XzbEBxuygbNvMJ7CsPvXNC8VmCLN  \n",
      "2   https://www.validators.app/api/v1/validators/mainnet/LodeuWMHPiPj2PUHUyca2bkpFv9HyzR3gaDBmGJ9TSS  \n",
      "3  https://www.validators.app/api/v1/validators/mainnet/FYWeJ3uyJRHPUYj84ebhPAa7ZTeq9WU8LHQaKAgDcF74  \n",
      "4   https://www.validators.app/api/v1/validators/mainnet/NLMSHTjmSiRxGJPs3uaqtsFBC2dTGYwK41U18Nmw5kH  \n"
     ]
    }
   ],
   "source": [
    "\n",
    "\n",
    "# Assuming VALIDATORS is already defined\n",
    "# Example: VALIDATORS = \"your-secret-api-token\"\n",
    "\n",
    "NETWORK = \"mainnet\"  # Change to 'testnet' or 'pythnet' as needed\n",
    "BASE_URL = f\"https://www.validators.app/api/v1/validators/{NETWORK}.json\"\n",
    "\n",
    "HEADERS = {\n",
    "    \"Token\": VALIDATORS_API_KEY\n",
    "}\n",
    "\n",
    "def fetch_all_validators(with_history=False):\n",
    "    params = {}\n",
    "    if with_history:\n",
    "        params[\"with_history\"] = \"true\"\n",
    "    \n",
    "    response = requests.get(BASE_URL, headers=HEADERS, params=params)\n",
    "    \n",
    "    if response.status_code == 200:\n",
    "        validators = response.json()\n",
    "        print(f\"Fetched {len(validators)} validators.\")\n",
    "        return pd.DataFrame(validators)\n",
    "    else:\n",
    "        print(f\"Error fetching validator data: {response.status_code} - {response.text}\")\n",
    "        return pd.DataFrame()\n",
    "\n",
    "# Usage\n",
    "df_validators = fetch_all_validators(with_history=True)\n",
    "\n",
    "# Display the first few rows\n",
    "print(df_validators.head())\n"
   ]
  },
  {
   "cell_type": "code",
   "execution_count": 21,
   "id": "791996e9",
   "metadata": {},
   "outputs": [
    {
     "data": {
      "text/plain": [
       "['network',\n",
       " 'account',\n",
       " 'name',\n",
       " 'keybase_id',\n",
       " 'www_url',\n",
       " 'details',\n",
       " 'avatar_url',\n",
       " 'created_at',\n",
       " 'updated_at',\n",
       " 'admin_warning',\n",
       " 'jito',\n",
       " 'jito_commission',\n",
       " 'stake_pools_list',\n",
       " 'is_active',\n",
       " 'avatar_file_url',\n",
       " 'active_stake',\n",
       " 'authorized_withdrawer_score',\n",
       " 'commission',\n",
       " 'data_center_concentration_score',\n",
       " 'delinquent',\n",
       " 'published_information_score',\n",
       " 'root_distance_score',\n",
       " 'security_report_score',\n",
       " 'skipped_slot_score',\n",
       " 'skipped_after_score',\n",
       " 'software_version',\n",
       " 'software_version_score',\n",
       " 'stake_concentration_score',\n",
       " 'consensus_mods_score',\n",
       " 'vote_latency_score',\n",
       " 'total_score',\n",
       " 'vote_distance_score',\n",
       " 'ip',\n",
       " 'data_center_key',\n",
       " 'autonomous_system_number',\n",
       " 'latitude',\n",
       " 'longitude',\n",
       " 'data_center_host',\n",
       " 'vote_account',\n",
       " 'epoch_credits',\n",
       " 'epoch',\n",
       " 'skipped_slots',\n",
       " 'skipped_slot_percent',\n",
       " 'ping_time',\n",
       " 'url']"
      ]
     },
     "execution_count": 21,
     "metadata": {},
     "output_type": "execute_result"
    }
   ],
   "source": [
    "df_validators.columns.to_list()"
   ]
  },
  {
   "cell_type": "markdown",
   "id": "65d7907c",
   "metadata": {},
   "source": [
    "# Exploratory Data Analysis"
   ]
  },
  {
   "cell_type": "markdown",
   "id": "70768a16",
   "metadata": {},
   "source": [
    "In Solana, **EPOCHS\\_PER\\_YEAR** is a constant that depends on the number of slots per epoch and the length of each slot.\n",
    "\n",
    "### Step-by-Step Calculation:\n",
    "\n",
    "1. **Length of an epoch**:\n",
    "   Solana's epoch typically consists of **432,000 slots** (this number can slightly vary).\n",
    "\n",
    "2. **Duration of a slot**:\n",
    "   Each slot lasts roughly **400 milliseconds** (0.4 seconds).\n",
    "\n",
    "3. **Total seconds in a year**:\n",
    "   A year has **365.25 days** (accounting for leap years), so the total seconds in a year is:\n",
    "\n",
    "   $$\n",
    "   365.25 \\times 24 \\times 60 \\times 60 = 31,557,600 \\text{ seconds}\n",
    "   $$\n",
    "\n",
    "4. **Epoch length in seconds**:\n",
    "   The length of an epoch in seconds can be calculated as:\n",
    "\n",
    "   $$\n",
    "   \\text{Epoch length} = 432,000 \\times 0.4 \\text{ seconds} = 172,800 \\text{ seconds per epoch}\n",
    "   $$\n",
    "\n",
    "5. **Number of epochs per year**:\n",
    "   To find the number of epochs per year, divide the total seconds in a year by the seconds in one epoch:\n",
    "\n",
    "   $$\n",
    "   \\text{Epochs per year} = \\frac{31,557,600}{172,800} \\approx 182.5\n",
    "   $$\n",
    "\n",
    "\n",
    "\n",
    "### Important Notes:\n",
    "\n",
    "* The exact value of **EPOCHS\\_PER\\_YEAR** can fluctuate slightly based on actual slot times or network conditions.\n",
    "* In practical use, you might want to round **EPOCHS\\_PER\\_YEAR** to **183** or another convenient approximation for clarity.\n",
    "\n",
    "Would you like to run this with some example values, or do you need further adjustments?\n"
   ]
  },
  {
   "cell_type": "markdown",
   "id": "1dcb3e76",
   "metadata": {},
   "source": [
    "## APY (Annual Percentage Yield)\n",
    "\n",
    "APY estimates staking returns for a validator, considering how many credits they earn."
   ]
  },
  {
   "cell_type": "code",
   "execution_count": 22,
   "id": "cfbe584c",
   "metadata": {},
   "outputs": [
    {
     "data": {
      "text/html": [
       "<div>\n",
       "<style scoped>\n",
       "    .dataframe tbody tr th:only-of-type {\n",
       "        vertical-align: middle;\n",
       "    }\n",
       "\n",
       "    .dataframe tbody tr th {\n",
       "        vertical-align: top;\n",
       "    }\n",
       "\n",
       "    .dataframe thead th {\n",
       "        text-align: right;\n",
       "    }\n",
       "</style>\n",
       "<table border=\"1\" class=\"dataframe\">\n",
       "  <thead>\n",
       "    <tr style=\"text-align: right;\">\n",
       "      <th></th>\n",
       "      <th>timestamp</th>\n",
       "      <th>nodePubkey</th>\n",
       "      <th>commission</th>\n",
       "      <th>activatedStake</th>\n",
       "      <th>lastVote</th>\n",
       "      <th>rootSlot</th>\n",
       "      <th>epochVoteAccount</th>\n",
       "      <th>epoch</th>\n",
       "      <th>credits</th>\n",
       "      <th>previous_credits</th>\n",
       "      <th>credits_earned</th>\n",
       "      <th>votePubkey</th>\n",
       "      <th>epoch_return</th>\n",
       "      <th>APY</th>\n",
       "    </tr>\n",
       "  </thead>\n",
       "  <tbody>\n",
       "    <tr>\n",
       "      <th>3638</th>\n",
       "      <td>2025-05-04 22:32:36.496945+00:00</td>\n",
       "      <td>138KHwTqKNWGLoo8fK5i8UxYtwoC5tC8o7M9rY1CDEjT</td>\n",
       "      <td>0</td>\n",
       "      <td>35818579022567</td>\n",
       "      <td>337864773</td>\n",
       "      <td>337864742</td>\n",
       "      <td>True</td>\n",
       "      <td>778</td>\n",
       "      <td>635925863</td>\n",
       "      <td>629035066</td>\n",
       "      <td>6890797</td>\n",
       "      <td>ASfKFAKz6fH4eip1jdLGt5Ym954kU9KYnwq2Csn9ogSz</td>\n",
       "      <td>0.00000019</td>\n",
       "      <td>0.00003511</td>\n",
       "    </tr>\n",
       "    <tr>\n",
       "      <th>3639</th>\n",
       "      <td>2025-05-04 22:32:36.496945+00:00</td>\n",
       "      <td>138KHwTqKNWGLoo8fK5i8UxYtwoC5tC8o7M9rY1CDEjT</td>\n",
       "      <td>0</td>\n",
       "      <td>35818579022567</td>\n",
       "      <td>337864773</td>\n",
       "      <td>337864742</td>\n",
       "      <td>True</td>\n",
       "      <td>779</td>\n",
       "      <td>642817650</td>\n",
       "      <td>635925863</td>\n",
       "      <td>6891787</td>\n",
       "      <td>ASfKFAKz6fH4eip1jdLGt5Ym954kU9KYnwq2Csn9ogSz</td>\n",
       "      <td>0.00000019</td>\n",
       "      <td>0.00003512</td>\n",
       "    </tr>\n",
       "    <tr>\n",
       "      <th>3640</th>\n",
       "      <td>2025-05-04 22:32:36.496945+00:00</td>\n",
       "      <td>138KHwTqKNWGLoo8fK5i8UxYtwoC5tC8o7M9rY1CDEjT</td>\n",
       "      <td>0</td>\n",
       "      <td>35818579022567</td>\n",
       "      <td>337864773</td>\n",
       "      <td>337864742</td>\n",
       "      <td>True</td>\n",
       "      <td>780</td>\n",
       "      <td>649701256</td>\n",
       "      <td>642817650</td>\n",
       "      <td>6883606</td>\n",
       "      <td>ASfKFAKz6fH4eip1jdLGt5Ym954kU9KYnwq2Csn9ogSz</td>\n",
       "      <td>0.00000019</td>\n",
       "      <td>0.00003507</td>\n",
       "    </tr>\n",
       "    <tr>\n",
       "      <th>3641</th>\n",
       "      <td>2025-05-04 22:32:36.496945+00:00</td>\n",
       "      <td>138KHwTqKNWGLoo8fK5i8UxYtwoC5tC8o7M9rY1CDEjT</td>\n",
       "      <td>0</td>\n",
       "      <td>35818579022567</td>\n",
       "      <td>337864773</td>\n",
       "      <td>337864742</td>\n",
       "      <td>True</td>\n",
       "      <td>781</td>\n",
       "      <td>656598333</td>\n",
       "      <td>649701256</td>\n",
       "      <td>6897077</td>\n",
       "      <td>ASfKFAKz6fH4eip1jdLGt5Ym954kU9KYnwq2Csn9ogSz</td>\n",
       "      <td>0.00000019</td>\n",
       "      <td>0.00003514</td>\n",
       "    </tr>\n",
       "    <tr>\n",
       "      <th>3642</th>\n",
       "      <td>2025-05-04 22:32:36.496945+00:00</td>\n",
       "      <td>138KHwTqKNWGLoo8fK5i8UxYtwoC5tC8o7M9rY1CDEjT</td>\n",
       "      <td>0</td>\n",
       "      <td>35818579022567</td>\n",
       "      <td>337864773</td>\n",
       "      <td>337864742</td>\n",
       "      <td>True</td>\n",
       "      <td>782</td>\n",
       "      <td>657249655</td>\n",
       "      <td>656598333</td>\n",
       "      <td>651322</td>\n",
       "      <td>ASfKFAKz6fH4eip1jdLGt5Ym954kU9KYnwq2Csn9ogSz</td>\n",
       "      <td>0.00000002</td>\n",
       "      <td>0.00000332</td>\n",
       "    </tr>\n",
       "  </tbody>\n",
       "</table>\n",
       "</div>"
      ],
      "text/plain": [
       "                            timestamp                                    nodePubkey  commission  activatedStake   lastVote   rootSlot  epochVoteAccount  epoch    credits  previous_credits  \\\n",
       "3638 2025-05-04 22:32:36.496945+00:00  138KHwTqKNWGLoo8fK5i8UxYtwoC5tC8o7M9rY1CDEjT           0  35818579022567  337864773  337864742              True    778  635925863         629035066   \n",
       "3639 2025-05-04 22:32:36.496945+00:00  138KHwTqKNWGLoo8fK5i8UxYtwoC5tC8o7M9rY1CDEjT           0  35818579022567  337864773  337864742              True    779  642817650         635925863   \n",
       "3640 2025-05-04 22:32:36.496945+00:00  138KHwTqKNWGLoo8fK5i8UxYtwoC5tC8o7M9rY1CDEjT           0  35818579022567  337864773  337864742              True    780  649701256         642817650   \n",
       "3641 2025-05-04 22:32:36.496945+00:00  138KHwTqKNWGLoo8fK5i8UxYtwoC5tC8o7M9rY1CDEjT           0  35818579022567  337864773  337864742              True    781  656598333         649701256   \n",
       "3642 2025-05-04 22:32:36.496945+00:00  138KHwTqKNWGLoo8fK5i8UxYtwoC5tC8o7M9rY1CDEjT           0  35818579022567  337864773  337864742              True    782  657249655         656598333   \n",
       "\n",
       "      credits_earned                                    votePubkey  epoch_return        APY  \n",
       "3638         6890797  ASfKFAKz6fH4eip1jdLGt5Ym954kU9KYnwq2Csn9ogSz    0.00000019 0.00003511  \n",
       "3639         6891787  ASfKFAKz6fH4eip1jdLGt5Ym954kU9KYnwq2Csn9ogSz    0.00000019 0.00003512  \n",
       "3640         6883606  ASfKFAKz6fH4eip1jdLGt5Ym954kU9KYnwq2Csn9ogSz    0.00000019 0.00003507  \n",
       "3641         6897077  ASfKFAKz6fH4eip1jdLGt5Ym954kU9KYnwq2Csn9ogSz    0.00000019 0.00003514  \n",
       "3642          651322  ASfKFAKz6fH4eip1jdLGt5Ym954kU9KYnwq2Csn9ogSz    0.00000002 0.00000332  "
      ]
     },
     "execution_count": 22,
     "metadata": {},
     "output_type": "execute_result"
    }
   ],
   "source": [
    "EPOCHS_PER_YEAR = 182.5\n",
    "\n",
    "# Avoid divide-by-zero issues\n",
    "df_expanded = df_expanded[df_expanded['activatedStake'] > 0]\n",
    "\n",
    "# Compute per-epoch return\n",
    "df_expanded['epoch_return'] = df_expanded['credits_earned'] / df_expanded['activatedStake']\n",
    "\n",
    "# Compute APY\n",
    "df_expanded['APY'] = (1 + df_expanded['epoch_return']) ** EPOCHS_PER_YEAR - 1\n",
    "\n",
    "df_expanded.head()"
   ]
  },
  {
   "cell_type": "markdown",
   "id": "d760b646",
   "metadata": {},
   "source": [
    "# Activated Stake\n",
    "\n",
    "Calculation:\n",
    "\n",
    "- Represented in lamports (1 SOL = 1e9 lamports).\n",
    "\n",
    "- Track stake changes over epochs to detect delegation trends."
   ]
  },
  {
   "cell_type": "code",
   "execution_count": 23,
   "id": "6f79b77c",
   "metadata": {},
   "outputs": [
    {
     "name": "stdout",
     "output_type": "stream",
     "text": [
      "                            timestamp                                    nodePubkey  commission  activatedStake   lastVote   rootSlot  epochVoteAccount  epoch    credits  previous_credits  \\\n",
      "3638 2025-05-04 22:32:36.496945+00:00  138KHwTqKNWGLoo8fK5i8UxYtwoC5tC8o7M9rY1CDEjT           0  35818579022567  337864773  337864742              True    778  635925863         629035066   \n",
      "3639 2025-05-04 22:32:36.496945+00:00  138KHwTqKNWGLoo8fK5i8UxYtwoC5tC8o7M9rY1CDEjT           0  35818579022567  337864773  337864742              True    779  642817650         635925863   \n",
      "3640 2025-05-04 22:32:36.496945+00:00  138KHwTqKNWGLoo8fK5i8UxYtwoC5tC8o7M9rY1CDEjT           0  35818579022567  337864773  337864742              True    780  649701256         642817650   \n",
      "3641 2025-05-04 22:32:36.496945+00:00  138KHwTqKNWGLoo8fK5i8UxYtwoC5tC8o7M9rY1CDEjT           0  35818579022567  337864773  337864742              True    781  656598333         649701256   \n",
      "3642 2025-05-04 22:32:36.496945+00:00  138KHwTqKNWGLoo8fK5i8UxYtwoC5tC8o7M9rY1CDEjT           0  35818579022567  337864773  337864742              True    782  657249655         656598333   \n",
      "...                               ...                                           ...         ...             ...        ...        ...               ...    ...        ...               ...   \n",
      "345  2025-05-04 22:32:36.496945+00:00   zeroT6PTAEjipvZuACTh1mbGCqTHgA6i1ped9DcuidX           5  28750296613800  337864773  337864742              True    778  739299580         732425259   \n",
      "346  2025-05-04 22:32:36.496945+00:00   zeroT6PTAEjipvZuACTh1mbGCqTHgA6i1ped9DcuidX           5  28750296613800  337864773  337864742              True    779  746171427         739299580   \n",
      "347  2025-05-04 22:32:36.496945+00:00   zeroT6PTAEjipvZuACTh1mbGCqTHgA6i1ped9DcuidX           5  28750296613800  337864773  337864742              True    780  753030725         746171427   \n",
      "348  2025-05-04 22:32:36.496945+00:00   zeroT6PTAEjipvZuACTh1mbGCqTHgA6i1ped9DcuidX           5  28750296613800  337864773  337864742              True    781  759903851         753030725   \n",
      "349  2025-05-04 22:32:36.496945+00:00   zeroT6PTAEjipvZuACTh1mbGCqTHgA6i1ped9DcuidX           5  28750296613800  337864773  337864742              True    782  760553228         759903851   \n",
      "\n",
      "      credits_earned                                    votePubkey  epoch_return        APY  activated_stake_sol  \n",
      "3638         6890797  ASfKFAKz6fH4eip1jdLGt5Ym954kU9KYnwq2Csn9ogSz    0.00000019 0.00003511       35818.57902257  \n",
      "3639         6891787  ASfKFAKz6fH4eip1jdLGt5Ym954kU9KYnwq2Csn9ogSz    0.00000019 0.00003512       35818.57902257  \n",
      "3640         6883606  ASfKFAKz6fH4eip1jdLGt5Ym954kU9KYnwq2Csn9ogSz    0.00000019 0.00003507       35818.57902257  \n",
      "3641         6897077  ASfKFAKz6fH4eip1jdLGt5Ym954kU9KYnwq2Csn9ogSz    0.00000019 0.00003514       35818.57902257  \n",
      "3642          651322  ASfKFAKz6fH4eip1jdLGt5Ym954kU9KYnwq2Csn9ogSz    0.00000002 0.00000332       35818.57902257  \n",
      "...              ...                                           ...           ...        ...                  ...  \n",
      "345          6874321  5BAi9YGCipHq4ZcXuen5vagRQqRTVTRszXNqBZC6uBPZ    0.00000024 0.00004364       28750.29661380  \n",
      "346          6871847  5BAi9YGCipHq4ZcXuen5vagRQqRTVTRszXNqBZC6uBPZ    0.00000024 0.00004362       28750.29661380  \n",
      "347          6859298  5BAi9YGCipHq4ZcXuen5vagRQqRTVTRszXNqBZC6uBPZ    0.00000024 0.00004354       28750.29661380  \n",
      "348          6873126  5BAi9YGCipHq4ZcXuen5vagRQqRTVTRszXNqBZC6uBPZ    0.00000024 0.00004363       28750.29661380  \n",
      "349           649377  5BAi9YGCipHq4ZcXuen5vagRQqRTVTRszXNqBZC6uBPZ    0.00000002 0.00000412       28750.29661380  \n",
      "\n",
      "[6679 rows x 15 columns]\n"
     ]
    }
   ],
   "source": [
    "df_expanded['activated_stake_sol'] = df_expanded['activatedStake'] / 1e9\n",
    "print(df_expanded)"
   ]
  },
  {
   "cell_type": "markdown",
   "id": "bed56a0a",
   "metadata": {},
   "source": [
    "### Uptime\n",
    "\n",
    " Solana has ~432,000 slots per epoch (2.5 slots/sec)."
   ]
  },
  {
   "cell_type": "code",
   "execution_count": 24,
   "id": "d639be40",
   "metadata": {},
   "outputs": [],
   "source": [
    "slots_per_epoch = 432000\n",
    "df_expanded['uptime_pct'] = (df_expanded[\"credits_earned\"] / slots_per_epoch) * 100\n",
    "\n"
   ]
  },
  {
   "cell_type": "markdown",
   "id": "e92fdd7b",
   "metadata": {},
   "source": [
    "#### Vote Success Rate\n",
    "\n",
    "If credits_earned > slots, use lastVote and rootSlot instead.\n",
    "\n"
   ]
  },
  {
   "cell_type": "code",
   "execution_count": 25,
   "id": "c3dd9cae",
   "metadata": {},
   "outputs": [],
   "source": [
    "successful_votes = df_expanded['lastVote'] - df_expanded['rootSlot']\n",
    "df_expanded['uptime_pct'] = (successful_votes / slots_per_epoch) * 100"
   ]
  },
  {
   "cell_type": "markdown",
   "id": "0473ed5a",
   "metadata": {},
   "source": [
    "#### Vote Lag\n",
    "vote_lag shows how many slots the validator lags behind.\n",
    "\n",
    "#### Lagging \n",
    "A consistent high lag can suggest downtime or poor performance"
   ]
  },
  {
   "cell_type": "code",
   "execution_count": 26,
   "id": "28f38005",
   "metadata": {},
   "outputs": [
    {
     "data": {
      "text/html": [
       "<div>\n",
       "<style scoped>\n",
       "    .dataframe tbody tr th:only-of-type {\n",
       "        vertical-align: middle;\n",
       "    }\n",
       "\n",
       "    .dataframe tbody tr th {\n",
       "        vertical-align: top;\n",
       "    }\n",
       "\n",
       "    .dataframe thead th {\n",
       "        text-align: right;\n",
       "    }\n",
       "</style>\n",
       "<table border=\"1\" class=\"dataframe\">\n",
       "  <thead>\n",
       "    <tr style=\"text-align: right;\">\n",
       "      <th></th>\n",
       "      <th>timestamp</th>\n",
       "      <th>nodePubkey</th>\n",
       "      <th>commission</th>\n",
       "      <th>activatedStake</th>\n",
       "      <th>lastVote</th>\n",
       "      <th>rootSlot</th>\n",
       "      <th>epochVoteAccount</th>\n",
       "      <th>epoch</th>\n",
       "      <th>credits</th>\n",
       "      <th>previous_credits</th>\n",
       "      <th>credits_earned</th>\n",
       "      <th>votePubkey</th>\n",
       "      <th>epoch_return</th>\n",
       "      <th>APY</th>\n",
       "      <th>activated_stake_sol</th>\n",
       "      <th>uptime_pct</th>\n",
       "      <th>vote_lag</th>\n",
       "      <th>lagging</th>\n",
       "    </tr>\n",
       "  </thead>\n",
       "  <tbody>\n",
       "    <tr>\n",
       "      <th>3638</th>\n",
       "      <td>2025-05-04 22:32:36.496945+00:00</td>\n",
       "      <td>138KHwTqKNWGLoo8fK5i8UxYtwoC5tC8o7M9rY1CDEjT</td>\n",
       "      <td>0</td>\n",
       "      <td>35818579022567</td>\n",
       "      <td>337864773</td>\n",
       "      <td>337864742</td>\n",
       "      <td>True</td>\n",
       "      <td>778</td>\n",
       "      <td>635925863</td>\n",
       "      <td>629035066</td>\n",
       "      <td>6890797</td>\n",
       "      <td>ASfKFAKz6fH4eip1jdLGt5Ym954kU9KYnwq2Csn9ogSz</td>\n",
       "      <td>0.00000019</td>\n",
       "      <td>0.00003511</td>\n",
       "      <td>35818.57902257</td>\n",
       "      <td>0.00717593</td>\n",
       "      <td>-31</td>\n",
       "      <td>False</td>\n",
       "    </tr>\n",
       "    <tr>\n",
       "      <th>3639</th>\n",
       "      <td>2025-05-04 22:32:36.496945+00:00</td>\n",
       "      <td>138KHwTqKNWGLoo8fK5i8UxYtwoC5tC8o7M9rY1CDEjT</td>\n",
       "      <td>0</td>\n",
       "      <td>35818579022567</td>\n",
       "      <td>337864773</td>\n",
       "      <td>337864742</td>\n",
       "      <td>True</td>\n",
       "      <td>779</td>\n",
       "      <td>642817650</td>\n",
       "      <td>635925863</td>\n",
       "      <td>6891787</td>\n",
       "      <td>ASfKFAKz6fH4eip1jdLGt5Ym954kU9KYnwq2Csn9ogSz</td>\n",
       "      <td>0.00000019</td>\n",
       "      <td>0.00003512</td>\n",
       "      <td>35818.57902257</td>\n",
       "      <td>0.00717593</td>\n",
       "      <td>-31</td>\n",
       "      <td>False</td>\n",
       "    </tr>\n",
       "    <tr>\n",
       "      <th>3640</th>\n",
       "      <td>2025-05-04 22:32:36.496945+00:00</td>\n",
       "      <td>138KHwTqKNWGLoo8fK5i8UxYtwoC5tC8o7M9rY1CDEjT</td>\n",
       "      <td>0</td>\n",
       "      <td>35818579022567</td>\n",
       "      <td>337864773</td>\n",
       "      <td>337864742</td>\n",
       "      <td>True</td>\n",
       "      <td>780</td>\n",
       "      <td>649701256</td>\n",
       "      <td>642817650</td>\n",
       "      <td>6883606</td>\n",
       "      <td>ASfKFAKz6fH4eip1jdLGt5Ym954kU9KYnwq2Csn9ogSz</td>\n",
       "      <td>0.00000019</td>\n",
       "      <td>0.00003507</td>\n",
       "      <td>35818.57902257</td>\n",
       "      <td>0.00717593</td>\n",
       "      <td>-31</td>\n",
       "      <td>False</td>\n",
       "    </tr>\n",
       "    <tr>\n",
       "      <th>3641</th>\n",
       "      <td>2025-05-04 22:32:36.496945+00:00</td>\n",
       "      <td>138KHwTqKNWGLoo8fK5i8UxYtwoC5tC8o7M9rY1CDEjT</td>\n",
       "      <td>0</td>\n",
       "      <td>35818579022567</td>\n",
       "      <td>337864773</td>\n",
       "      <td>337864742</td>\n",
       "      <td>True</td>\n",
       "      <td>781</td>\n",
       "      <td>656598333</td>\n",
       "      <td>649701256</td>\n",
       "      <td>6897077</td>\n",
       "      <td>ASfKFAKz6fH4eip1jdLGt5Ym954kU9KYnwq2Csn9ogSz</td>\n",
       "      <td>0.00000019</td>\n",
       "      <td>0.00003514</td>\n",
       "      <td>35818.57902257</td>\n",
       "      <td>0.00717593</td>\n",
       "      <td>-31</td>\n",
       "      <td>False</td>\n",
       "    </tr>\n",
       "    <tr>\n",
       "      <th>3642</th>\n",
       "      <td>2025-05-04 22:32:36.496945+00:00</td>\n",
       "      <td>138KHwTqKNWGLoo8fK5i8UxYtwoC5tC8o7M9rY1CDEjT</td>\n",
       "      <td>0</td>\n",
       "      <td>35818579022567</td>\n",
       "      <td>337864773</td>\n",
       "      <td>337864742</td>\n",
       "      <td>True</td>\n",
       "      <td>782</td>\n",
       "      <td>657249655</td>\n",
       "      <td>656598333</td>\n",
       "      <td>651322</td>\n",
       "      <td>ASfKFAKz6fH4eip1jdLGt5Ym954kU9KYnwq2Csn9ogSz</td>\n",
       "      <td>0.00000002</td>\n",
       "      <td>0.00000332</td>\n",
       "      <td>35818.57902257</td>\n",
       "      <td>0.00717593</td>\n",
       "      <td>-31</td>\n",
       "      <td>False</td>\n",
       "    </tr>\n",
       "  </tbody>\n",
       "</table>\n",
       "</div>"
      ],
      "text/plain": [
       "                            timestamp                                    nodePubkey  commission  activatedStake   lastVote   rootSlot  epochVoteAccount  epoch    credits  previous_credits  \\\n",
       "3638 2025-05-04 22:32:36.496945+00:00  138KHwTqKNWGLoo8fK5i8UxYtwoC5tC8o7M9rY1CDEjT           0  35818579022567  337864773  337864742              True    778  635925863         629035066   \n",
       "3639 2025-05-04 22:32:36.496945+00:00  138KHwTqKNWGLoo8fK5i8UxYtwoC5tC8o7M9rY1CDEjT           0  35818579022567  337864773  337864742              True    779  642817650         635925863   \n",
       "3640 2025-05-04 22:32:36.496945+00:00  138KHwTqKNWGLoo8fK5i8UxYtwoC5tC8o7M9rY1CDEjT           0  35818579022567  337864773  337864742              True    780  649701256         642817650   \n",
       "3641 2025-05-04 22:32:36.496945+00:00  138KHwTqKNWGLoo8fK5i8UxYtwoC5tC8o7M9rY1CDEjT           0  35818579022567  337864773  337864742              True    781  656598333         649701256   \n",
       "3642 2025-05-04 22:32:36.496945+00:00  138KHwTqKNWGLoo8fK5i8UxYtwoC5tC8o7M9rY1CDEjT           0  35818579022567  337864773  337864742              True    782  657249655         656598333   \n",
       "\n",
       "      credits_earned                                    votePubkey  epoch_return        APY  activated_stake_sol  uptime_pct  vote_lag  lagging  \n",
       "3638         6890797  ASfKFAKz6fH4eip1jdLGt5Ym954kU9KYnwq2Csn9ogSz    0.00000019 0.00003511       35818.57902257  0.00717593       -31    False  \n",
       "3639         6891787  ASfKFAKz6fH4eip1jdLGt5Ym954kU9KYnwq2Csn9ogSz    0.00000019 0.00003512       35818.57902257  0.00717593       -31    False  \n",
       "3640         6883606  ASfKFAKz6fH4eip1jdLGt5Ym954kU9KYnwq2Csn9ogSz    0.00000019 0.00003507       35818.57902257  0.00717593       -31    False  \n",
       "3641         6897077  ASfKFAKz6fH4eip1jdLGt5Ym954kU9KYnwq2Csn9ogSz    0.00000019 0.00003514       35818.57902257  0.00717593       -31    False  \n",
       "3642          651322  ASfKFAKz6fH4eip1jdLGt5Ym954kU9KYnwq2Csn9ogSz    0.00000002 0.00000332       35818.57902257  0.00717593       -31    False  "
      ]
     },
     "execution_count": 26,
     "metadata": {},
     "output_type": "execute_result"
    }
   ],
   "source": [
    "threshold = 100\n",
    "df_expanded['vote_lag'] = df_expanded['rootSlot'] - df_expanded['lastVote']\n",
    "df_expanded['lagging'] = df_expanded['vote_lag'] > threshold\n",
    "\n",
    "df_expanded.head()\n"
   ]
  },
  {
   "cell_type": "code",
   "execution_count": 27,
   "id": "460ba7d7",
   "metadata": {},
   "outputs": [
    {
     "data": {
      "text/plain": [
       "[-31, -32, -35]"
      ]
     },
     "execution_count": 27,
     "metadata": {},
     "output_type": "execute_result"
    }
   ],
   "source": [
    "df_expanded['vote_lag'].unique().tolist()"
   ]
  },
  {
   "cell_type": "code",
   "execution_count": null,
   "id": "73e96ced",
   "metadata": {},
   "outputs": [],
   "source": []
  }
 ],
 "metadata": {
  "kernelspec": {
   "display_name": "solana-predict",
   "language": "python",
   "name": "python3"
  },
  "language_info": {
   "codemirror_mode": {
    "name": "ipython",
    "version": 3
   },
   "file_extension": ".py",
   "mimetype": "text/x-python",
   "name": "python",
   "nbconvert_exporter": "python",
   "pygments_lexer": "ipython3",
   "version": "3.10.16"
  }
 },
 "nbformat": 4,
 "nbformat_minor": 5
}
