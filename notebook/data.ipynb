{
 "cells": [
  {
   "cell_type": "code",
   "execution_count": 1,
   "id": "7ce26ad4",
   "metadata": {},
   "outputs": [],
   "source": [
    "from helius import NFTAPI, NameAPI, BalancesAPI, WebhooksAPI, TransactionsAPI\n",
    "from dotenv import load_dotenv\n",
    "from pathlib import Path\n",
    "import requests\n",
    "import pandas as pd\n",
    "import numpy as np\n",
    "import os\n",
    "import time\n",
    "import json"
   ]
  },
  {
   "cell_type": "code",
   "execution_count": 2,
   "id": "329bbba6",
   "metadata": {},
   "outputs": [],
   "source": [
    "HELIUS_API_KEY = os.getenv('HELIUM_API_KEY')\n"
   ]
  },
  {
   "cell_type": "code",
   "execution_count": 3,
   "id": "73759d46",
   "metadata": {},
   "outputs": [],
   "source": [
    "VALIDATORS_API_KEY = os.getenv('VALIDATORS_API_KEY')"
   ]
  },
  {
   "cell_type": "code",
   "execution_count": 4,
   "id": "a22bfcbb",
   "metadata": {},
   "outputs": [
    {
     "name": "stdout",
     "output_type": "stream",
     "text": [
      "82ed7012-4895-437a-905b-747f22f63660\n"
     ]
    }
   ],
   "source": [
    "print(HELIUS_API_KEY)\n"
   ]
  },
  {
   "cell_type": "code",
   "execution_count": 5,
   "id": "63de431d",
   "metadata": {},
   "outputs": [
    {
     "name": "stdout",
     "output_type": "stream",
     "text": [
      "5PzrUychgMgtveX9h1NvBH5f\n"
     ]
    }
   ],
   "source": [
    "print(VALIDATORS_API_KEY)"
   ]
  },
  {
   "cell_type": "code",
   "execution_count": 4,
   "id": "85871455",
   "metadata": {},
   "outputs": [],
   "source": [
    "pd.set_option('display.max_colwidth', None)  \n",
    "pd.set_option('display.max_columns', None)   \n",
    "pd.set_option('display.width', 200)    \n",
    "pd.set_option('display.float_format', '{:.8f}'.format)"
   ]
  },
  {
   "cell_type": "code",
   "execution_count": 5,
   "id": "d4d2b645",
   "metadata": {},
   "outputs": [],
   "source": [
    "# transactions_api  = TransactionsAPI(HELIUS_API_KEY)\n",
    "\n",
    "# parsed_transaction_history = transactions_api.get_parsed_transaction_history(address=\"HtXa1PH33GGvH3giqMqatndHcKnzeSkwMaW46DTzDfLd\")\n",
    "\n",
    "# print(parsed_transaction_history)"
   ]
  },
  {
   "cell_type": "code",
   "execution_count": 6,
   "id": "f7d21fad",
   "metadata": {},
   "outputs": [],
   "source": [
    "import requests\n",
    "\n",
    "# Replace this with your Helius API key\n",
    "#API_KEY = \"YOUR_HELIUS_API_KEY\"\n",
    "BASE_URL = f\"https://mainnet.helius-rpc.com/?api-key={HELIUS_API_KEY}\"\n",
    "\n",
    "HEADERS = {\"Content-Type\": \"application/json\"}\n",
    "\n",
    "def get_vote_accounts():\n",
    "    payload = {\n",
    "        \"jsonrpc\": \"2.0\",\n",
    "        \"id\": 1,\n",
    "        \"method\": \"getVoteAccounts\"\n",
    "    }\n",
    "    response = requests.post(BASE_URL, json=payload, headers=HEADERS)\n",
    "    if response.status_code == 200:\n",
    "        data = response.json()\n",
    "        current_validators = data[\"result\"][\"current\"]\n",
    "        delinquent_validators = data[\"result\"][\"delinquent\"]\n",
    "        return current_validators, delinquent_validators\n",
    "    else:\n",
    "        print(\"Error fetching vote accounts:\", response.text)\n",
    "        return [], []\n",
    "\n",
    "def get_stake_accounts_by_pubkey(pubkey):\n",
    "    payload = {\n",
    "        \"jsonrpc\": \"2.0\",\n",
    "        \"id\": 1,\n",
    "        \"method\": \"getProgramAccounts\",\n",
    "        \"params\": [\n",
    "            \"Stake11111111111111111111111111111111111111\",  # Stake Program\n",
    "            {\n",
    "                \"encoding\": \"jsonParsed\",\n",
    "                \"filters\": [\n",
    "                    {\n",
    "                        \"memcmp\": {\n",
    "                            \"offset\": 12,\n",
    "                            \"bytes\": pubkey\n",
    "                        }\n",
    "                    }\n",
    "                ]\n",
    "            }\n",
    "        ]\n",
    "    }\n",
    "    response = requests.post(BASE_URL, json=payload, headers=HEADERS)\n",
    "    if response.status_code == 200:\n",
    "        return response.json()[\"result\"]\n",
    "    else:\n",
    "        print(\"Error fetching stake accounts:\", response.text)\n",
    "        return []\n",
    "\n"
   ]
  },
  {
   "cell_type": "code",
   "execution_count": 7,
   "id": "2f6f8626",
   "metadata": {},
   "outputs": [
    {
     "name": "stdout",
     "output_type": "stream",
     "text": [
      "Total active validators: 1288\n",
      "Total delinquent validators: 79\n",
      "Stake accounts for HtXa1PH33GGvH3giqMqatndHcKnzeSkwMaW46DTzDfLd:\n"
     ]
    }
   ],
   "source": [
    "# --- Example Usage ---\n",
    "\n",
    "# Fetch validators\n",
    "current, delinquent = get_vote_accounts()\n",
    "print(f\"Total active validators: {len(current)}\")\n",
    "print(f\"Total delinquent validators: {len(delinquent)}\")\n",
    "\n",
    "# Optionally fetch stake accounts by a delegator pubkey\n",
    "delegator_pubkey = \"HtXa1PH33GGvH3giqMqatndHcKnzeSkwMaW46DTzDfLd\"  # Replace this\n",
    "stakes = get_stake_accounts_by_pubkey(delegator_pubkey)\n",
    "print(f\"Stake accounts for {delegator_pubkey}:\")\n",
    "for s in stakes:\n",
    "    print(s[\"pubkey\"], s[\"account\"][\"data\"][\"parsed\"][\"info\"][\"stake\"])\n"
   ]
  },
  {
   "cell_type": "markdown",
   "id": "10a0027d",
   "metadata": {},
   "source": [
    "# Fetching Validator + Stake Data via Helius API"
   ]
  },
  {
   "cell_type": "markdown",
   "id": "2c39945a",
   "metadata": {},
   "source": [
    "### Vote Data"
   ]
  },
  {
   "cell_type": "code",
   "execution_count": 8,
   "id": "45ca535c",
   "metadata": {},
   "outputs": [
    {
     "data": {
      "text/html": [
       "<div>\n",
       "<style scoped>\n",
       "    .dataframe tbody tr th:only-of-type {\n",
       "        vertical-align: middle;\n",
       "    }\n",
       "\n",
       "    .dataframe tbody tr th {\n",
       "        vertical-align: top;\n",
       "    }\n",
       "\n",
       "    .dataframe thead th {\n",
       "        text-align: right;\n",
       "    }\n",
       "</style>\n",
       "<table border=\"1\" class=\"dataframe\">\n",
       "  <thead>\n",
       "    <tr style=\"text-align: right;\">\n",
       "      <th></th>\n",
       "      <th>activatedStake</th>\n",
       "      <th>commission</th>\n",
       "      <th>epochCredits</th>\n",
       "      <th>epochVoteAccount</th>\n",
       "      <th>lastVote</th>\n",
       "      <th>nodePubkey</th>\n",
       "      <th>rootSlot</th>\n",
       "      <th>votePubkey</th>\n",
       "    </tr>\n",
       "  </thead>\n",
       "  <tbody>\n",
       "    <tr>\n",
       "      <th>0</th>\n",
       "      <td>65959648846731</td>\n",
       "      <td>0</td>\n",
       "      <td>[[777, 534033506, 527148507], [778, 540918883, 534033506], [779, 547801820, 540918883], [780, 554673024, 547801820], [781, 557642086, 554673024]]</td>\n",
       "      <td>True</td>\n",
       "      <td>337578237</td>\n",
       "      <td>mXv18ov8qCiQGs3ieoen981LdgZzYJjJak6reK6fpNC</td>\n",
       "      <td>337578206</td>\n",
       "      <td>Mxv1Ubm71XoUvxrN3qjN8ii6Bh5b43NuuKywsWx6ox2</td>\n",
       "    </tr>\n",
       "  </tbody>\n",
       "</table>\n",
       "</div>"
      ],
      "text/plain": [
       "   activatedStake  commission                                                                                                                                       epochCredits  epochVoteAccount  \\\n",
       "0  65959648846731           0  [[777, 534033506, 527148507], [778, 540918883, 534033506], [779, 547801820, 540918883], [780, 554673024, 547801820], [781, 557642086, 554673024]]              True   \n",
       "\n",
       "    lastVote                                   nodePubkey   rootSlot                                   votePubkey  \n",
       "0  337578237  mXv18ov8qCiQGs3ieoen981LdgZzYJjJak6reK6fpNC  337578206  Mxv1Ubm71XoUvxrN3qjN8ii6Bh5b43NuuKywsWx6ox2  "
      ]
     },
     "execution_count": 8,
     "metadata": {},
     "output_type": "execute_result"
    }
   ],
   "source": [
    "# JSON-RPC Payload to fetch validator vote accounts\n",
    "payload = {\n",
    "    \"jsonrpc\": \"2.0\",\n",
    "    \"id\": 1,\n",
    "    \"method\": \"getVoteAccounts\"\n",
    "}\n",
    "\n",
    "response = requests.post(BASE_URL, json=payload)\n",
    "data = response.json()\n",
    "\n",
    "# Combine current + delinquent validators\n",
    "validators = data[\"result\"][\"current\"] + data[\"result\"][\"delinquent\"]\n",
    "\n",
    "# Convert to DataFrame\n",
    "df = pd.DataFrame(validators)\n",
    "df.head(n=1)"
   ]
  },
  {
   "cell_type": "code",
   "execution_count": 9,
   "id": "ea2ec822",
   "metadata": {},
   "outputs": [],
   "source": [
    "# Add additional fields (can be joined with price data or slashing reports)\n",
    "df[\"timestamp\"] = pd.Timestamp.utcnow()\n",
    "df[\"epoch\"] = None  # You can get this via 'getEpochInfo' method\n",
    "\n",
    "# Preview important fields\n",
    "# print(df[[\n",
    "#     \"nodePubkey\", \"commission\", \"activatedStake\", \"lastVote\", \"rootSlot\", \n",
    "#     \"epochCredits\", \"epochVoteAccount\"\n",
    "# ]])\n",
    "\n",
    "df = df[[\n",
    "    \"timestamp\",\"nodePubkey\", \"commission\", \"activatedStake\", \"lastVote\", \"rootSlot\", \n",
    "    \"epochCredits\", \"epochVoteAccount\",\"votePubkey\"\n",
    "]]\n"
   ]
  },
  {
   "cell_type": "code",
   "execution_count": 10,
   "id": "9c84e0cd",
   "metadata": {},
   "outputs": [
    {
     "name": "stdout",
     "output_type": "stream",
     "text": [
      "['timestamp', 'nodePubkey', 'commission', 'activatedStake', 'lastVote', 'rootSlot', 'epochCredits', 'epochVoteAccount', 'votePubkey']\n"
     ]
    }
   ],
   "source": [
    "print(df.columns.tolist())\n"
   ]
  },
  {
   "cell_type": "code",
   "execution_count": 11,
   "id": "90d4fcdf",
   "metadata": {},
   "outputs": [
    {
     "name": "stdout",
     "output_type": "stream",
     "text": [
      "                            timestamp                                    nodePubkey  commission  activatedStake   lastVote   rootSlot  epochVoteAccount  epoch    credits  previous_credits  \\\n",
      "5712 2025-05-03 15:12:06.454599+00:00  138KHwTqKNWGLoo8fK5i8UxYtwoC5tC8o7M9rY1CDEjT           0  46599789909708  337578237  337578206              True    777  629035066         622143555   \n",
      "5713 2025-05-03 15:12:06.454599+00:00  138KHwTqKNWGLoo8fK5i8UxYtwoC5tC8o7M9rY1CDEjT           0  46599789909708  337578237  337578206              True    778  635925863         629035066   \n",
      "5714 2025-05-03 15:12:06.454599+00:00  138KHwTqKNWGLoo8fK5i8UxYtwoC5tC8o7M9rY1CDEjT           0  46599789909708  337578237  337578206              True    779  642817650         635925863   \n",
      "5715 2025-05-03 15:12:06.454599+00:00  138KHwTqKNWGLoo8fK5i8UxYtwoC5tC8o7M9rY1CDEjT           0  46599789909708  337578237  337578206              True    780  649701256         642817650   \n",
      "5716 2025-05-03 15:12:06.454599+00:00  138KHwTqKNWGLoo8fK5i8UxYtwoC5tC8o7M9rY1CDEjT           0  46599789909708  337578237  337578206              True    781  652673565         649701256   \n",
      "\n",
      "      credits_earned                                    votePubkey  \n",
      "5712         6891511  ASfKFAKz6fH4eip1jdLGt5Ym954kU9KYnwq2Csn9ogSz  \n",
      "5713         6890797  ASfKFAKz6fH4eip1jdLGt5Ym954kU9KYnwq2Csn9ogSz  \n",
      "5714         6891787  ASfKFAKz6fH4eip1jdLGt5Ym954kU9KYnwq2Csn9ogSz  \n",
      "5715         6883606  ASfKFAKz6fH4eip1jdLGt5Ym954kU9KYnwq2Csn9ogSz  \n",
      "5716         2972309  ASfKFAKz6fH4eip1jdLGt5Ym954kU9KYnwq2Csn9ogSz  \n"
     ]
    }
   ],
   "source": [
    "expanded_rows = []\n",
    "\n",
    "for idx, row in df.iterrows():\n",
    "    node_pubkey = row['nodePubkey']\n",
    "    votePubkey = row['votePubkey']\n",
    "    for epoch_info in row['epochCredits']:\n",
    "        epoch, current_credits, previous_credits = epoch_info\n",
    "        credits_earned = current_credits - previous_credits\n",
    "        expanded_rows.append({\n",
    "            'timestamp': row['timestamp'],\n",
    "            'nodePubkey': node_pubkey,\n",
    "            'commission': row['commission'],\n",
    "            'activatedStake': row['activatedStake'],\n",
    "            'lastVote': row['lastVote'],\n",
    "            'rootSlot': row['rootSlot'],\n",
    "            'epochVoteAccount': row['epochVoteAccount'],\n",
    "            'epoch': epoch,\n",
    "            'credits': current_credits,\n",
    "            'previous_credits': previous_credits,\n",
    "            'credits_earned': credits_earned,\n",
    "            'votePubkey' : votePubkey\n",
    "        })\n",
    "\n",
    "df_expanded = pd.DataFrame(expanded_rows)\n",
    "df_expanded.sort_values(by=['nodePubkey', 'epoch'], inplace=True)\n",
    "print(df_expanded.head())\n"
   ]
  },
  {
   "cell_type": "markdown",
   "id": "7ea5646b",
   "metadata": {},
   "source": [
    "### Annual Inflation Rate\n",
    "Purpose: Use this to contextualize staking APY and understand network reward distribution.\n",
    "\n",
    "\n",
    "\n"
   ]
  },
  {
   "cell_type": "code",
   "execution_count": 12,
   "id": "0d9e79a0",
   "metadata": {},
   "outputs": [
    {
     "name": "stdout",
     "output_type": "stream",
     "text": [
      "   epoch  foundation      total  validator                        timestamp\n",
      "0    781  0.00000000 0.04558572 0.04558572 2025-05-03 15:14:37.164918+00:00\n"
     ]
    }
   ],
   "source": [
    "def get_inflation_rate():\n",
    "    payload = {\n",
    "        \"jsonrpc\": \"2.0\",\n",
    "        \"id\": 1,\n",
    "        \"method\": \"getInflationRate\"\n",
    "    }\n",
    "    response = requests.post(BASE_URL, json=payload, headers=HEADERS)\n",
    "    if response.status_code == 200:\n",
    "        data = response.json()\n",
    "        #return data[\"result\"]\n",
    "        result = data[\"result\"]\n",
    "        result[\"timestamp\"] = pd.Timestamp.utcnow()  # Add timestamp\n",
    "        return result \n",
    "    else:\n",
    "        print(\"Error fetching inflation rate:\", response.text)\n",
    "        return {}\n",
    "\n",
    "# Fetch and convert to DataFrame\n",
    "inflation_data = get_inflation_rate()\n",
    "df_inflation = pd.DataFrame([inflation_data])  # Single row\n",
    "print(df_inflation.head(n=1))"
   ]
  },
  {
   "cell_type": "markdown",
   "id": "d450ff59",
   "metadata": {},
   "source": [
    "### Staking Rewards - Inflation Rate\n",
    "This is critical for calculating APY\n",
    "\n",
    "\n",
    "- amount: Rewards in lamports (e.g., 1,863,991,600 lamports ≈ 1.863 SOL).\n",
    "\n",
    "- effectiveSlot: Slot when rewards were applied.\n",
    "\n",
    "- epoch: Epoch number.\n",
    "\n",
    "- postBalance: Account balance after rewards (in lamports).\n",
    "\n",
    "- commission: Validator’s commission rate\n",
    "\n",
    "\n"
   ]
  },
  {
   "cell_type": "code",
   "execution_count": 13,
   "id": "d1af2e1c",
   "metadata": {},
   "outputs": [
    {
     "name": "stdout",
     "output_type": "stream",
     "text": [
      "   amount  commission  effectiveSlot  epoch  postBalance                        timestamp\n",
      "0       0           0      337392000    780    171285600 2025-05-03 15:14:38.643979+00:00\n"
     ]
    }
   ],
   "source": [
    "def get_inflation_reward(vote_accounts, epoch=None):\n",
    "    payload = {\n",
    "        \"jsonrpc\": \"2.0\",\n",
    "        \"id\": 1,\n",
    "        \"method\": \"getInflationReward\",\n",
    "        \"params\": [vote_accounts, {\"commitment\": \"finalized\"}]\n",
    "    }\n",
    "    if epoch is not None:\n",
    "        payload[\"params\"].append({\"epoch\": epoch})\n",
    "        \n",
    "    response = requests.post(BASE_URL, json=payload, headers=HEADERS)\n",
    "    \n",
    "    if response.status_code == 200:\n",
    "        data = response.json()\n",
    "        result = data[\"result\"]\n",
    "        \n",
    "        # Add timestamp to each reward entry\n",
    "        timestamp = pd.Timestamp.utcnow()\n",
    "        for entry in result:\n",
    "            if entry is not None:  # Some entries may be None\n",
    "                entry[\"timestamp\"] = timestamp\n",
    "        \n",
    "        return result\n",
    "    else:\n",
    "        print(\"Error fetching inflation reward:\", response.text)\n",
    "        return []\n",
    "\n",
    "\n",
    "# Get validator-specific inflation rewards\n",
    "validator_addresses = df_expanded[\"votePubkey\"].tolist()\n",
    "rewards = get_inflation_reward(validator_addresses[:10])  # Max 50 addresses per call\n",
    "\n",
    "inflation_reward = pd.DataFrame(rewards)\n",
    "print(inflation_reward.head(n=1))"
   ]
  },
  {
   "cell_type": "markdown",
   "id": "f3ab6487",
   "metadata": {},
   "source": [
    "### Total Network Credits\n",
    "\n",
    "Use total network credits to normalize your validator’s credits_earned and assess relative performance. Also provides epoch context.\n",
    "\n"
   ]
  },
  {
   "cell_type": "code",
   "execution_count": 14,
   "id": "17c2463b",
   "metadata": {},
   "outputs": [
    {
     "name": "stdout",
     "output_type": "stream",
     "text": [
      "   absoluteSlot  blockHeight  epoch  slotIndex  slotsInEpoch  transactionCount                        timestamp\n",
      "0     337578816    315804970    781     186816        432000      401764226818 2025-05-03 15:15:54.806691+00:00\n"
     ]
    }
   ],
   "source": [
    "def get_epoch_info():\n",
    "    payload = {\n",
    "        \"jsonrpc\": \"2.0\",\n",
    "        \"id\": 1,\n",
    "        \"method\": \"getEpochInfo\"\n",
    "    }\n",
    "    response = requests.post(BASE_URL, json=payload, headers=HEADERS)\n",
    "    if response.status_code == 200:\n",
    "        data = response.json()\n",
    "        result = data[\"result\"]\n",
    "        result[\"timestamp\"] = pd.Timestamp.utcnow()  # Add timestamp\n",
    "        return result \n",
    "    else:\n",
    "        print(\"Error fetching epoch info:\", response.text)\n",
    "        return {}\n",
    "\n",
    "# Fetch and convert to DataFrame\n",
    "epoch_info = get_epoch_info()\n",
    "df_epoch = pd.DataFrame([epoch_info])\n",
    "print(df_epoch.head(n=1))"
   ]
  },
  {
   "cell_type": "markdown",
   "id": "6ec995e6",
   "metadata": {},
   "source": [
    "## Circulating SOL Supply\n",
    "\n"
   ]
  },
  {
   "cell_type": "code",
   "execution_count": 15,
   "id": "7ec72572",
   "metadata": {},
   "outputs": [
    {
     "name": "stdout",
     "output_type": "stream",
     "text": [
      "          circulating     nonCirculating  \\\n",
      "0  518074450070638003  81839035746876888   \n",
      "\n",
      "                                                                                                                                                                                                                                                                                                                                                                                                                                                                                                                                                                                                                                                                                                                                                                                                                                                                                                                                                                                                                                                                                                                                                                                                                                                                                                                                                                                                                                                                                                                                                                                                                                                                                                                                                                                                                                                                                                                                                                                                                                                                                                                                                                                                                                                                                                                                                                                                                                                                                                                                                                                                                                                                                                                                                                                                                                                                                                                                                                                                                                                                                                                                                                                                                                                                                                                                                                                                                                                                                                                                                                                                                                                                                                                                                                                                                                                                                                                                                                                                                                                                                                                                                                                                                                                                                                                                                                                                                                                                                                                                                                                                                                                                                                                                                                     nonCirculatingAccounts  \\\n",
      "0  [9RjuRVdt35j4ByN4LoBPKmTFL1xEmJZrGDE41NMQfqLE, 5kX8Y1GRS52MeLZATRuaCS3UVX9qaTLeTMx8NoovXRMs, CLKNnqQ7yuztUwcZYG2HgmH8BywYfxPov7rTcQjk1pSn, EwYM9LTc1KwJJVMzQmYgfYMQXi3JcMSzx4KcWpPGoipz, 14czz1cTMuaEdoRZQjwuBxHnM8S9QPVMLX6gCkftQQFA, HTUiFSk65N4c84Kpo1r9dX8Y5BSKgXyLPbxnyr4Fkfd7, 49jsgpPULNdQFA89MsXS98iy88JT5yL6weEKKtKUooKx, JAY4i8UuCiwfV6tu7NTCFSnnt2rZobePvhWzZwczhirh, BfqbLo85MvwEcHJNmuX89DAwx2keyc2mZvjuK3GNTiqZ, G7T5kuvxRK7kKrGXrjgYQHTTfS3aQ638ncFSp7HyjPEx, BE3HD2Mt8MqyGdKdQ2RJ4AGZB6dPiVU87swFHUUnry6h, CBRgTxZt2HJXPmJKR4YXosYV4jfyDCBUUxD3rLiQRJ4D, HdhwRSidjcsZGycwfDFTa4Tnd5swqdsccfbWByFMuLHE, GWbSBN3C85h5ifrqkW7RLxvQNqUwGCZKgVydcNACdj5x, C7C8odR8oashR5Feyrq2tJKaXL18id1dSj2zbkDGL2C2, Fks2AHXbVaXYSS9FZoBwgRW3vDENrSYJn8NU2Zpq7CVY, 3VoBVi1njEqAUogHKCVjV2TnvGrXrbkUTsn8bRgjpsw6, 5ATvz3Fz6xtkKuP7v7FaXXXXwyuh3DafuEDV7eJiXufP, Aqa2CUzPGe5B6UZTj2AwvmDA7ZvkHrHqQNcnD9Wtnxag, GCxGj9kgYCJMh8R94ptFMenPqFimKP6QK92MyB5f4k2e, HZWroUbS6kQw12fWFVw6obzCrAHCpehhMTEGhFrxSDBX, 7pvPWDgzc4es88x6wMcJCybHbH8hpkC1vQ5drKTMaN8T, WVoLLryUmL4HnnDGrmTT9HNAJ44BKBSLZ4mzWYnrN3z, GdnSyH3YtwcxFvQrVVJMm1JhTS4QVX7MFsX56uJLUfiZ, D15sW48k3FCNC35bouvQv6xeTbj63VUuf5raBAL1h42K, EGJeaWA9YDqy6ywGA7RmUECxyQjEMrS2JjpFF5AYMpPi, 4zUB5xgh9FHN6oXQSFj5Zo8rLXBsKoAb1rnPdxwB6gT3, 3uB318QezFesFrEq2tWbR9mngBnAHVxdZxWQndf5PXqj, 68CzD7sK7vsALyfTATMNw6kkG7oVn5QoFFLa686ixof8, 7gzL7wDuU7z2QT9nExqgSK98vVDb45NLKHczzaVZVyQs, 6ooctGRs2WFTULozCs1VGHdTGUnuHqBiB4Ks3QmmhjND, 3tzL9YcTgWhmcBjqUSQwtZJz1YDmH1BzZ2zaqfjbSaWg, CpZSWoLEMhA7wCmcdnzv5QFghXqkEUHV3DirmY2J4FmS, 4Z6261a3ddywFU9YFMSFSFARKqT8mrupKDmmxmqWmGDw, CgGndhKwD4AbzGAxhpCQTK7P2dxMVro2DkcrBKJrZR4o, uDquaY2Z3UoSmuE1YmMacjLCEUWubXATBirLfHT83EY, 3PFaFFTfGADgMtoZMd6tgVWemS9tg9QAzKeToryRcujd, ECgMhauQw9KNDoFGaoXDGuGpU6PSRxJGbv2ENsCKroQT, 2YvfhUF6eoyjgQjRdUnLQ8U7HAc9TA4U6CBCewxvjubs, 4ymNqT14hbDTzFzRYNSWpDfEdJH26pyGgDrd6Q4X3Qnf, 3jwdVcmJicVe4T8aAdELu2fuiEJ1eyuowF6cP9BtZ1WS, G9F4kY5UQ4rELja1CF2moAnrancEVtNeDPyMiDmLUyvL, hyyHWcqLs5sqW5ECfoL7vhn7ZSxEKhXLh4WZksbJPXx, B95m5ccQWrqAngXGYBLrUJAGDa6ChXiKPJGKwG5Ugfe2, 3DkFfbVpK2L4TQRQAt39TWCCn7bfee7LFyatACKQo9FU, 8iDb3c8UFXf1qxZ1dL6VTR1PYL42btQNgNUcGMnc6Fvz, 3Anjpa68bsQ2fBPKQpxjpaWu6ye6u2Eoork3hijSpYgG, 3TJEQ7tZUcobCVhwZUs3EHHrAwuuCauGbgFSHVCYVZMw, E4swH9y2pacjYmBH7sQSX4waHoHsJYibvHYf7D2RpFsg, 3Zm3DLMTYXFSNMvGsTRR7ReaSzWRTqgKXj9R7hRBMidh, 45e5YWawCTZCNvBXxtckyKa83dEsB4VyBXyMeMSUhtJL, GteX98mBvu8Mr1jAur4yTnDbe6ZR5SzQGFFSRjin4f1a, E7GmBD5bWTmvnSSy5EJH3xCvqFoaKx5MditHgkLMsJa, 57BiXNBYTaiTYQjWgTJTGNtwYgZcUbejgCXJtuvbUi3b, 44bBUTj2STah83r17V8BkRn8sJaThtaCq96mjz8SEuqT, EJCheQFabAN6vdacxg34dybVouZHKBkeKQQb5Ysj3K6b, 2mHECLMwR8RAttTqwhwH5rjYnubxarD2AJ2iUPgGyPLg, 6H5o3A8R6VcwTLEfyyrM317frh8o46NmoM4xaXArFyWv, BWnKJPSrGwD5XTmV1aDA6X1HqNU4bVoYgojjSJP5TAF6, 7QT626jgAgyFEosenxAXQwfPyLh4fyfFDu6T3u2SDgPc, 8Rkv5TAeqzrPyxFAzW743Ao79RNE9WiR1YVNmPS6Bcwx, FTiq4q42DtxHs6ARoAJQH6ujTLqRuKCVG4NHbw3CDLJT, DhixaawE73v2sPMSCfADyodFN7D417HvL2WsbHHqih3c, 6x2qA4n17T5pdjyBnV1k1pNnWXXzzJngwap8i5853Gqb, J8TgqEfphbfEanACzkAkKzxq1nP6rbaxHyLkLWP6hCLn, AGUe7Gfs6XqQqHgJgQsAt22SxWVwmR8DEUMPqfKLj1Wh, HDpzi94fqynETpQ67E9ktfZaZ8xm98tDCnDi5vt7KS7y, 5rnSex5AMx5dmUG44TSRPj31qqRbf3dhoef6DrhQYK5c, 7aHqSfZWii83DQNzwEXYP6He1YUaEB5GNRSG5QUU7BpX, 7Xr7rqe5zK45fC28BP2pSuWFo1RTYShBpTNPBSgBdGsx, B5524KJXrDyY7EjP3cekJLWaiLDQafyn6ZQMaev5ZhFZ, CrHPFC1jnUrsLbYku5jAqxZpBJ8iDvqiJ6ZZsu9vrLJg, B7fV6ScQhceUmQdbpfdWAAi3MkjKoE53AQP5pwUoTVL3, 3ANR1QJG99eCzn4tEYK8vrLvmBb81qzppWdAmTmLZ1pq, 27NXL6hcNBMcnAzBjKnub4Qifz5brCdqboXDM26aAP1o, GAJXGHjXR1Htu6AgqHT4NjgWB1MvvuBrzSQHRub6EvMY, BSccLBiyBoegyzyBwoyU9MHp6HiHmn3YpHVUgye26UgH, 6Shg2rKbaAGzZVoAbDMmVvz7fLKALcT2okjGnpvryWg9, DsT8zwK6bhf8JrXNkUUbPzxQpKygwMQ6XfqxhfrLvCsV, HUNdHnUGUJ72VaBy7zugP13kJHQ1WodbAn2sz5Vm2554, Cm2LZXTbuDxtoVes9F5Lgb84YYt4cTQdiS3AGJnY8jkX, 6rRHuwoC7jnSpwvwUqTUbYb32EDoG7DP63RcfU1BWsPE, DTd3hUUkP3BT77jyATCZ721izz163jTPxuexDc9aUnkN, D7sYxY7RR5KQH5HQQq4zqxNPiJo1MpXj1AWXWyW1egTw, Cmg9zijHFxNbbbK87g1cbS8sgeHTHivTBJGDAjz6xord, 6qr2v1dWaapPRxFNLdCqT9aN4Jjmet5fHAZLNxTvuuMD, 3mKpJnZndfMPTZYbx8ibAciKDWCjihvUcH4WGuntHnB8, AdDYyi3NFi6tiPsHiEUm6Z3gRfAvaQ4zHuTtnLcQCjpi, 6JJLARmMLKLjmatqjo2Fd3Uv9pXDwrFpTonqqjMaUWx1, E5mmMnWGysviarx3pYWNGx1VB5FsbLYeVqNYzgcaQEyi, EhY57GnhCKUHYYNi5h4Cu5rHY6whjaJkyrRhWh38tMVC, 88WmwpB9dK4E2WcAkCWKMarb6YJup6q3UrzoBMeikWGu, 9cB26wabm3g44spF5N2DeoRhTSoTuRCYMBewuBex9SvW, 7zd9y1dWLZRBLs3idhvcJ4MecWyuJAjmitr9YDVRFRDJ, 5SgB2H39w8PtR43BNCgHkJAWdTR94ydnJ3GkrcJRbAV4, 7CPwD9J6pbgvjVdZvAir2vhpM43Jy2dq1CWc5i8iDsix, 2d2tHUQJh5P5r5ivzUpK5y2EFmSTZWgHESXAcFB4Rnai, GwD6RgZuFFQ8w6cCrwRG8pDs62XZe3KRYYAAefxfaKgX, 4SXtb3bt2uk3eAHK4MSYhkaLLUcAMqqhwBFxaFhx2UsW, G5aHvHn44ncgicJs35HvhaEVzdn6rLmRwyohjQLsupA, ...]   \n",
      "\n",
      "                total  \n",
      "0  599913485817514891  \n"
     ]
    }
   ],
   "source": [
    "def get_supply():\n",
    "    payload = {\n",
    "        \"jsonrpc\": \"2.0\",\n",
    "        \"id\": 1,\n",
    "        \"method\": \"getSupply\",\n",
    "        \"params\": [{\"commitment\": \"finalized\"}]\n",
    "    }\n",
    "    response = requests.post(BASE_URL, json=payload, headers=HEADERS)\n",
    "    if response.status_code == 200:\n",
    "        data = response.json()\n",
    "        return data[\"result\"][\"value\"]\n",
    "    else:\n",
    "        print(\"Error fetching supply:\", response.text)\n",
    "        return {}\n",
    "\n",
    "# Fetch and convert to DataFrame\n",
    "supply_data = get_supply()\n",
    "df_supply = pd.DataFrame([supply_data])\n",
    "print(df_supply.head(n=1))"
   ]
  },
  {
   "cell_type": "code",
   "execution_count": 16,
   "id": "8181d756",
   "metadata": {},
   "outputs": [
    {
     "name": "stdout",
     "output_type": "stream",
     "text": [
      "     circulating_sol  nonCirculating_sol          total_sol\n",
      "0 518074450.07063800   81839035.74687690 599913485.81751490\n"
     ]
    }
   ],
   "source": [
    "import pandas as pd\n",
    "\n",
    "# If df_supply is already created:\n",
    "df_supply['circulating'] = df_supply['circulating'].astype(float)\n",
    "df_supply['nonCirculating'] = df_supply['nonCirculating'].astype(float)\n",
    "df_supply['total'] = df_supply['total'].astype(float)\n",
    "# Optionally convert to billions for readability:\n",
    "df_supply['circulating_sol'] = df_supply['circulating'] / 1e9\n",
    "df_supply['nonCirculating_sol'] = df_supply['nonCirculating'] / 1e9\n",
    "df_supply['total_sol'] = df_supply['total'] / 1e9\n",
    "# If you want a DataFrame where each nonCirculatingAccount is its own row:\n",
    "df_accounts = pd.DataFrame(df_supply['nonCirculatingAccounts'][0], columns=['nonCirculatingAccount'])\n",
    "\n",
    "# Resulting outputs:\n",
    "df_supply = df_supply[['circulating_sol', 'nonCirculating_sol', 'total_sol']]\n",
    "print(df_supply)\n",
    "#print(df_supply[['circulating_sol', 'nonCirculating_sol', 'total_sol']])\n",
    "#print(df_accounts.head())\n"
   ]
  },
  {
   "cell_type": "markdown",
   "id": "17a45160",
   "metadata": {},
   "source": [
    "###  Transactions Per Second (TPS)\n",
    "\n"
   ]
  },
  {
   "cell_type": "code",
   "execution_count": 17,
   "id": "6a5e2e94",
   "metadata": {},
   "outputs": [
    {
     "name": "stdout",
     "output_type": "stream",
     "text": [
      "TPS DataFrame:\n",
      "                         timestamp           tps\n",
      "0 2025-05-03 15:19:46.938164+00:00 4442.30000000\n"
     ]
    }
   ],
   "source": [
    "def get_tps():\n",
    "    payload = {\n",
    "        \"jsonrpc\": \"2.0\",\n",
    "        \"id\": 1,\n",
    "        \"method\": \"getRecentPerformanceSamples\",\n",
    "        \"params\": [1]  # Fetch 1 sample\n",
    "    }\n",
    "    response = requests.post(BASE_URL, json=payload, headers=HEADERS)\n",
    "    if response.status_code == 200:\n",
    "        data = response.json()\n",
    "        sample = data[\"result\"][0]\n",
    "        tps = sample[\"numTransactions\"] / sample[\"samplePeriodSecs\"]\n",
    "        return tps\n",
    "    else:\n",
    "        print(\"Error fetching TPS:\", response.text)\n",
    "        return 0\n",
    "\n",
    "# Fetch TPS\n",
    "tps = get_tps()\n",
    "df_tps = pd.DataFrame({\"timestamp\": [pd.Timestamp.utcnow()], \"tps\": [tps]})\n",
    "print(\"TPS DataFrame:\")\n",
    "print(df_tps.head())"
   ]
  },
  {
   "cell_type": "markdown",
   "id": "b7c34965",
   "metadata": {},
   "source": [
    "### SOL Price (Using CoinGecko)\n",
    "\n"
   ]
  },
  {
   "cell_type": "code",
   "execution_count": 18,
   "id": "419ecc0e",
   "metadata": {},
   "outputs": [
    {
     "name": "stdout",
     "output_type": "stream",
     "text": [
      "SOL Price DataFrame:\n",
      "                         timestamp  sol_price_usd\n",
      "0 2025-05-03 15:22:17.514826+00:00   148.71000000\n"
     ]
    }
   ],
   "source": [
    "def get_sol_price():\n",
    "    url = \"https://api.coingecko.com/api/v3/simple/price?ids=solana&vs_currencies=usd\"\n",
    "    response = requests.get(url)\n",
    "    if response.status_code == 200:\n",
    "        data = response.json()\n",
    "        return data[\"solana\"][\"usd\"]\n",
    "    else:\n",
    "        print(\"Error fetching SOL price:\", response.text)\n",
    "        return 0\n",
    "\n",
    "# Fetch SOL price\n",
    "sol_price = get_sol_price()\n",
    "df_price = pd.DataFrame({\"timestamp\": [pd.Timestamp.utcnow()], \"sol_price_usd\": [sol_price]})\n",
    "print(\"SOL Price DataFrame:\")\n",
    "print(df_price.head())"
   ]
  },
  {
   "cell_type": "code",
   "execution_count": 19,
   "id": "a17d318b",
   "metadata": {},
   "outputs": [
    {
     "name": "stdout",
     "output_type": "stream",
     "text": [
      "Network Fees DataFrame:\n",
      "                         timestamp  avg_fee_lamports  avg_fee_sol  avg_fee_usd\n",
      "0 2025-05-03 15:24:48.274497+00:00     5000.00000000   0.00000500   0.00074355\n"
     ]
    }
   ],
   "source": [
    "def get_recent_priority_fees():\n",
    "    payload = {\n",
    "        \"jsonrpc\": \"2.0\",\n",
    "        \"id\": 1,\n",
    "        \"method\": \"getRecentPrioritizationFees\",\n",
    "        \"params\": [[]]  # Empty accounts for global fees\n",
    "    }\n",
    "    response = requests.post(BASE_URL, json=payload, headers=HEADERS)\n",
    "    if response.status_code == 200:\n",
    "        data = response.json()\n",
    "        fees = [f[\"prioritizationFee\"] for f in data[\"result\"]]\n",
    "        avg_fee = sum(fees) / len(fees) if fees else 0  # Micro-lamports\n",
    "        return avg_fee / 1e6  # Convert to lamports\n",
    "    else:\n",
    "        print(\"Error fetching priority fees:\", response.text)\n",
    "        return 0\n",
    "\n",
    "# Fetch average priority fee\n",
    "avg_priority_fee = get_recent_priority_fees()\n",
    "base_fee = 5000  # Static base fee per signature\n",
    "avg_fee = base_fee + avg_priority_fee  # Total average fee\n",
    "df_fees = pd.DataFrame({\n",
    "    \"timestamp\": [pd.Timestamp.utcnow()],\n",
    "    \"avg_fee_lamports\": [avg_fee],\n",
    "    \"avg_fee_sol\": [avg_fee / 1e9],\n",
    "    \"avg_fee_usd\": [avg_fee / 1e9 * sol_price]\n",
    "})\n",
    "print(\"Network Fees DataFrame:\")\n",
    "print(df_fees.head())"
   ]
  },
  {
   "cell_type": "code",
   "execution_count": 6,
   "id": "5dca3e0d",
   "metadata": {},
   "outputs": [
    {
     "name": "stdout",
     "output_type": "stream",
     "text": [
      "Fetched 1294 validators.\n",
      "   network                                       account  \\\n",
      "0  mainnet  Ed9WjPnZfAXsPttcqxMwj94qsuXVRyBsyXnDkxFva2Zv   \n",
      "1  mainnet   LodeuWMHPiPj2PUHUyca2bkpFv9HyzR3gaDBmGJ9TSS   \n",
      "2  mainnet   nymsHergYedT9CJMgtGMvqXUTGcbs5o3MiWTJUbqTGY   \n",
      "3  mainnet  8n9KRHDRDuZErZwdwzhtsTFJxmHqgCQ4ddZcdk6GMzvQ   \n",
      "4  mainnet   mrgn28BhocwdAUEenen3Sw2MR9cPKDpLkDvzDdR7DBD   \n",
      "\n",
      "                                      name keybase_id  \\\n",
      "0  Rakurai | High TPS | High block rewards              \n",
      "1                      The Lode (Sentries)   the_lode   \n",
      "2                                Hypo Nyms              \n",
      "3                                NodesGuru  nodesguru   \n",
      "4                                    mrgn2              \n",
      "\n",
      "                      www_url  \\\n",
      "0      https://www.rakurai.io   \n",
      "1         https://sentries.io   \n",
      "2  https://validator.nyms.wtf   \n",
      "3    https://stake.nodes.guru   \n",
      "4            https://mrgn.ch/   \n",
      "\n",
      "                                             details  \\\n",
      "0            Rakurai | High TPS | High block rewards   \n",
      "1  A Sentries-branded Solana Validator. The susta...   \n",
      "2          OG Solana researcher and core contributor   \n",
      "3  Guru of non-custodial staking. Professional no...   \n",
      "4                                              mrgn.   \n",
      "\n",
      "                                          avatar_url               created_at  \\\n",
      "0  https://raw.githubusercontent.com/rakurai-io/v...  2024-06-07 15:30:57 UTC   \n",
      "1         https://www.sentries.io/img/the_lode_1.png  2022-07-01 00:39:22 UTC   \n",
      "2                  https://i.ibb.co/cJYxKNP/nyms.jpg  2024-05-18 16:13:26 UTC   \n",
      "3  https://s3.amazonaws.com/keybase_processed_upl...  2021-07-22 11:00:06 UTC   \n",
      "4        https://cdn.mrgnlogistics.com/lst_light.png  2023-09-11 01:28:50 UTC   \n",
      "\n",
      "                updated_at admin_warning  ...  latitude  longitude  \\\n",
      "0  2025-03-18 03:40:05 UTC          None  ...   48.5848     7.7419   \n",
      "1  2025-03-30 03:40:06 UTC          None  ...   41.2627  -111.9837   \n",
      "2  2025-04-24 03:40:06 UTC          None  ...   52.3759     4.8975   \n",
      "3  2025-01-24 03:40:05 UTC          None  ...   48.8323     2.4075   \n",
      "4  2025-05-03 03:40:05 UTC          None  ...   52.3759     4.8975   \n",
      "\n",
      "         data_center_host                                  vote_account  \\\n",
      "0                    None  4YykTGwg94GgHZEPSsQfbaMaEE9HHAHqSuXT65L6C6wf   \n",
      "1                       9   LodezVTbz3v5GK6oULfWNFfcs7D4rtMZQkmRjnh65gq   \n",
      "2                    None   nymsndUdAZyUPpWYz5VEg8Ghj9cFvwTRgciLogpmYaQ   \n",
      "3  be101.sbg-g1-nc5.fr.eu   xSGajeS6niLPNiHGJBuy3nzQVUfyEAQV1yydrg74u4v   \n",
      "4                    None   mrgn2vsZ5EJ8YEfAMNPXmRux7th9cNfBasQ1JJvVwPn   \n",
      "\n",
      "  epoch_credits  epoch  skipped_slots  skipped_slot_percent  ping_time  \\\n",
      "0     3173168.0  781.0            0.0                   0.0        NaN   \n",
      "1     3173098.0  781.0            0.0                   0.0        NaN   \n",
      "2     3172577.0  781.0            0.0                   0.0        NaN   \n",
      "3     3172973.0  781.0            0.0                   0.0        NaN   \n",
      "4     3176504.0  781.0            0.0                   0.0        NaN   \n",
      "\n",
      "                                                 url  \n",
      "0  https://www.validators.app/api/v1/validators/m...  \n",
      "1  https://www.validators.app/api/v1/validators/m...  \n",
      "2  https://www.validators.app/api/v1/validators/m...  \n",
      "3  https://www.validators.app/api/v1/validators/m...  \n",
      "4  https://www.validators.app/api/v1/validators/m...  \n",
      "\n",
      "[5 rows x 45 columns]\n"
     ]
    }
   ],
   "source": [
    "\n",
    "\n",
    "# Assuming VALIDATORS is already defined\n",
    "# Example: VALIDATORS = \"your-secret-api-token\"\n",
    "\n",
    "NETWORK = \"mainnet\"  # Change to 'testnet' or 'pythnet' as needed\n",
    "BASE_URL = f\"https://www.validators.app/api/v1/validators/{NETWORK}.json\"\n",
    "\n",
    "HEADERS = {\n",
    "    \"Token\": VALIDATORS_API_KEY\n",
    "}\n",
    "\n",
    "def fetch_all_validators(with_history=False):\n",
    "    params = {}\n",
    "    if with_history:\n",
    "        params[\"with_history\"] = \"true\"\n",
    "    \n",
    "    response = requests.get(BASE_URL, headers=HEADERS, params=params)\n",
    "    \n",
    "    if response.status_code == 200:\n",
    "        validators = response.json()\n",
    "        print(f\"Fetched {len(validators)} validators.\")\n",
    "        return pd.DataFrame(validators)\n",
    "    else:\n",
    "        print(f\"Error fetching validator data: {response.status_code} - {response.text}\")\n",
    "        return pd.DataFrame()\n",
    "\n",
    "# Usage\n",
    "df_validators = fetch_all_validators(with_history=True)\n",
    "\n",
    "# Display the first few rows\n",
    "print(df_validators.head())\n"
   ]
  },
  {
   "cell_type": "code",
   "execution_count": 8,
   "id": "791996e9",
   "metadata": {},
   "outputs": [
    {
     "data": {
      "text/plain": [
       "['network',\n",
       " 'account',\n",
       " 'name',\n",
       " 'keybase_id',\n",
       " 'www_url',\n",
       " 'details',\n",
       " 'avatar_url',\n",
       " 'created_at',\n",
       " 'updated_at',\n",
       " 'admin_warning',\n",
       " 'jito',\n",
       " 'jito_commission',\n",
       " 'stake_pools_list',\n",
       " 'is_active',\n",
       " 'avatar_file_url',\n",
       " 'active_stake',\n",
       " 'authorized_withdrawer_score',\n",
       " 'commission',\n",
       " 'data_center_concentration_score',\n",
       " 'delinquent',\n",
       " 'published_information_score',\n",
       " 'root_distance_score',\n",
       " 'security_report_score',\n",
       " 'skipped_slot_score',\n",
       " 'skipped_after_score',\n",
       " 'software_version',\n",
       " 'software_version_score',\n",
       " 'stake_concentration_score',\n",
       " 'consensus_mods_score',\n",
       " 'vote_latency_score',\n",
       " 'total_score',\n",
       " 'vote_distance_score',\n",
       " 'ip',\n",
       " 'data_center_key',\n",
       " 'autonomous_system_number',\n",
       " 'latitude',\n",
       " 'longitude',\n",
       " 'data_center_host',\n",
       " 'vote_account',\n",
       " 'epoch_credits',\n",
       " 'epoch',\n",
       " 'skipped_slots',\n",
       " 'skipped_slot_percent',\n",
       " 'ping_time',\n",
       " 'url']"
      ]
     },
     "execution_count": 8,
     "metadata": {},
     "output_type": "execute_result"
    }
   ],
   "source": [
    "df_validators.columns.to_list()"
   ]
  },
  {
   "cell_type": "markdown",
   "id": "65d7907c",
   "metadata": {},
   "source": [
    "# Exploratory Data Analysis"
   ]
  },
  {
   "cell_type": "markdown",
   "id": "70768a16",
   "metadata": {},
   "source": [
    "In Solana, **EPOCHS\\_PER\\_YEAR** is a constant that depends on the number of slots per epoch and the length of each slot.\n",
    "\n",
    "### Step-by-Step Calculation:\n",
    "\n",
    "1. **Length of an epoch**:\n",
    "   Solana's epoch typically consists of **432,000 slots** (this number can slightly vary).\n",
    "\n",
    "2. **Duration of a slot**:\n",
    "   Each slot lasts roughly **400 milliseconds** (0.4 seconds).\n",
    "\n",
    "3. **Total seconds in a year**:\n",
    "   A year has **365.25 days** (accounting for leap years), so the total seconds in a year is:\n",
    "\n",
    "   $$\n",
    "   365.25 \\times 24 \\times 60 \\times 60 = 31,557,600 \\text{ seconds}\n",
    "   $$\n",
    "\n",
    "4. **Epoch length in seconds**:\n",
    "   The length of an epoch in seconds can be calculated as:\n",
    "\n",
    "   $$\n",
    "   \\text{Epoch length} = 432,000 \\times 0.4 \\text{ seconds} = 172,800 \\text{ seconds per epoch}\n",
    "   $$\n",
    "\n",
    "5. **Number of epochs per year**:\n",
    "   To find the number of epochs per year, divide the total seconds in a year by the seconds in one epoch:\n",
    "\n",
    "   $$\n",
    "   \\text{Epochs per year} = \\frac{31,557,600}{172,800} \\approx 182.5\n",
    "   $$\n",
    "\n",
    "\n",
    "\n",
    "### Important Notes:\n",
    "\n",
    "* The exact value of **EPOCHS\\_PER\\_YEAR** can fluctuate slightly based on actual slot times or network conditions.\n",
    "* In practical use, you might want to round **EPOCHS\\_PER\\_YEAR** to **183** or another convenient approximation for clarity.\n",
    "\n",
    "Would you like to run this with some example values, or do you need further adjustments?\n"
   ]
  },
  {
   "cell_type": "markdown",
   "id": "1dcb3e76",
   "metadata": {},
   "source": [
    "## APY (Annual Percentage Yield)\n",
    "\n",
    "APY estimates staking returns for a validator, considering how many credits they earn."
   ]
  },
  {
   "cell_type": "code",
   "execution_count": 20,
   "id": "cfbe584c",
   "metadata": {},
   "outputs": [
    {
     "data": {
      "text/html": [
       "<div>\n",
       "<style scoped>\n",
       "    .dataframe tbody tr th:only-of-type {\n",
       "        vertical-align: middle;\n",
       "    }\n",
       "\n",
       "    .dataframe tbody tr th {\n",
       "        vertical-align: top;\n",
       "    }\n",
       "\n",
       "    .dataframe thead th {\n",
       "        text-align: right;\n",
       "    }\n",
       "</style>\n",
       "<table border=\"1\" class=\"dataframe\">\n",
       "  <thead>\n",
       "    <tr style=\"text-align: right;\">\n",
       "      <th></th>\n",
       "      <th>timestamp</th>\n",
       "      <th>nodePubkey</th>\n",
       "      <th>commission</th>\n",
       "      <th>activatedStake</th>\n",
       "      <th>lastVote</th>\n",
       "      <th>rootSlot</th>\n",
       "      <th>epochVoteAccount</th>\n",
       "      <th>epoch</th>\n",
       "      <th>credits</th>\n",
       "      <th>previous_credits</th>\n",
       "      <th>credits_earned</th>\n",
       "      <th>votePubkey</th>\n",
       "      <th>epoch_return</th>\n",
       "      <th>APY</th>\n",
       "    </tr>\n",
       "  </thead>\n",
       "  <tbody>\n",
       "    <tr>\n",
       "      <th>5712</th>\n",
       "      <td>2025-05-03 15:12:06.454599+00:00</td>\n",
       "      <td>138KHwTqKNWGLoo8fK5i8UxYtwoC5tC8o7M9rY1CDEjT</td>\n",
       "      <td>0</td>\n",
       "      <td>46599789909708</td>\n",
       "      <td>337578237</td>\n",
       "      <td>337578206</td>\n",
       "      <td>True</td>\n",
       "      <td>777</td>\n",
       "      <td>629035066</td>\n",
       "      <td>622143555</td>\n",
       "      <td>6891511</td>\n",
       "      <td>ASfKFAKz6fH4eip1jdLGt5Ym954kU9KYnwq2Csn9ogSz</td>\n",
       "      <td>0.00000015</td>\n",
       "      <td>0.00002699</td>\n",
       "    </tr>\n",
       "    <tr>\n",
       "      <th>5713</th>\n",
       "      <td>2025-05-03 15:12:06.454599+00:00</td>\n",
       "      <td>138KHwTqKNWGLoo8fK5i8UxYtwoC5tC8o7M9rY1CDEjT</td>\n",
       "      <td>0</td>\n",
       "      <td>46599789909708</td>\n",
       "      <td>337578237</td>\n",
       "      <td>337578206</td>\n",
       "      <td>True</td>\n",
       "      <td>778</td>\n",
       "      <td>635925863</td>\n",
       "      <td>629035066</td>\n",
       "      <td>6890797</td>\n",
       "      <td>ASfKFAKz6fH4eip1jdLGt5Ym954kU9KYnwq2Csn9ogSz</td>\n",
       "      <td>0.00000015</td>\n",
       "      <td>0.00002699</td>\n",
       "    </tr>\n",
       "    <tr>\n",
       "      <th>5714</th>\n",
       "      <td>2025-05-03 15:12:06.454599+00:00</td>\n",
       "      <td>138KHwTqKNWGLoo8fK5i8UxYtwoC5tC8o7M9rY1CDEjT</td>\n",
       "      <td>0</td>\n",
       "      <td>46599789909708</td>\n",
       "      <td>337578237</td>\n",
       "      <td>337578206</td>\n",
       "      <td>True</td>\n",
       "      <td>779</td>\n",
       "      <td>642817650</td>\n",
       "      <td>635925863</td>\n",
       "      <td>6891787</td>\n",
       "      <td>ASfKFAKz6fH4eip1jdLGt5Ym954kU9KYnwq2Csn9ogSz</td>\n",
       "      <td>0.00000015</td>\n",
       "      <td>0.00002699</td>\n",
       "    </tr>\n",
       "    <tr>\n",
       "      <th>5715</th>\n",
       "      <td>2025-05-03 15:12:06.454599+00:00</td>\n",
       "      <td>138KHwTqKNWGLoo8fK5i8UxYtwoC5tC8o7M9rY1CDEjT</td>\n",
       "      <td>0</td>\n",
       "      <td>46599789909708</td>\n",
       "      <td>337578237</td>\n",
       "      <td>337578206</td>\n",
       "      <td>True</td>\n",
       "      <td>780</td>\n",
       "      <td>649701256</td>\n",
       "      <td>642817650</td>\n",
       "      <td>6883606</td>\n",
       "      <td>ASfKFAKz6fH4eip1jdLGt5Ym954kU9KYnwq2Csn9ogSz</td>\n",
       "      <td>0.00000015</td>\n",
       "      <td>0.00002696</td>\n",
       "    </tr>\n",
       "    <tr>\n",
       "      <th>5716</th>\n",
       "      <td>2025-05-03 15:12:06.454599+00:00</td>\n",
       "      <td>138KHwTqKNWGLoo8fK5i8UxYtwoC5tC8o7M9rY1CDEjT</td>\n",
       "      <td>0</td>\n",
       "      <td>46599789909708</td>\n",
       "      <td>337578237</td>\n",
       "      <td>337578206</td>\n",
       "      <td>True</td>\n",
       "      <td>781</td>\n",
       "      <td>652673565</td>\n",
       "      <td>649701256</td>\n",
       "      <td>2972309</td>\n",
       "      <td>ASfKFAKz6fH4eip1jdLGt5Ym954kU9KYnwq2Csn9ogSz</td>\n",
       "      <td>0.00000006</td>\n",
       "      <td>0.00001164</td>\n",
       "    </tr>\n",
       "  </tbody>\n",
       "</table>\n",
       "</div>"
      ],
      "text/plain": [
       "                            timestamp                                    nodePubkey  commission  activatedStake   lastVote   rootSlot  epochVoteAccount  epoch    credits  previous_credits  \\\n",
       "5712 2025-05-03 15:12:06.454599+00:00  138KHwTqKNWGLoo8fK5i8UxYtwoC5tC8o7M9rY1CDEjT           0  46599789909708  337578237  337578206              True    777  629035066         622143555   \n",
       "5713 2025-05-03 15:12:06.454599+00:00  138KHwTqKNWGLoo8fK5i8UxYtwoC5tC8o7M9rY1CDEjT           0  46599789909708  337578237  337578206              True    778  635925863         629035066   \n",
       "5714 2025-05-03 15:12:06.454599+00:00  138KHwTqKNWGLoo8fK5i8UxYtwoC5tC8o7M9rY1CDEjT           0  46599789909708  337578237  337578206              True    779  642817650         635925863   \n",
       "5715 2025-05-03 15:12:06.454599+00:00  138KHwTqKNWGLoo8fK5i8UxYtwoC5tC8o7M9rY1CDEjT           0  46599789909708  337578237  337578206              True    780  649701256         642817650   \n",
       "5716 2025-05-03 15:12:06.454599+00:00  138KHwTqKNWGLoo8fK5i8UxYtwoC5tC8o7M9rY1CDEjT           0  46599789909708  337578237  337578206              True    781  652673565         649701256   \n",
       "\n",
       "      credits_earned                                    votePubkey  epoch_return        APY  \n",
       "5712         6891511  ASfKFAKz6fH4eip1jdLGt5Ym954kU9KYnwq2Csn9ogSz    0.00000015 0.00002699  \n",
       "5713         6890797  ASfKFAKz6fH4eip1jdLGt5Ym954kU9KYnwq2Csn9ogSz    0.00000015 0.00002699  \n",
       "5714         6891787  ASfKFAKz6fH4eip1jdLGt5Ym954kU9KYnwq2Csn9ogSz    0.00000015 0.00002699  \n",
       "5715         6883606  ASfKFAKz6fH4eip1jdLGt5Ym954kU9KYnwq2Csn9ogSz    0.00000015 0.00002696  \n",
       "5716         2972309  ASfKFAKz6fH4eip1jdLGt5Ym954kU9KYnwq2Csn9ogSz    0.00000006 0.00001164  "
      ]
     },
     "execution_count": 20,
     "metadata": {},
     "output_type": "execute_result"
    }
   ],
   "source": [
    "EPOCHS_PER_YEAR = 182.5\n",
    "\n",
    "# Avoid divide-by-zero issues\n",
    "df_expanded = df_expanded[df_expanded['activatedStake'] > 0]\n",
    "\n",
    "# Compute per-epoch return\n",
    "df_expanded['epoch_return'] = df_expanded['credits_earned'] / df_expanded['activatedStake']\n",
    "\n",
    "# Compute APY\n",
    "df_expanded['APY'] = (1 + df_expanded['epoch_return']) ** EPOCHS_PER_YEAR - 1\n",
    "\n",
    "df_expanded.head()"
   ]
  },
  {
   "cell_type": "markdown",
   "id": "d760b646",
   "metadata": {},
   "source": [
    "# Activated Stake\n",
    "\n",
    "Calculation:\n",
    "\n",
    "- Represented in lamports (1 SOL = 1e9 lamports).\n",
    "\n",
    "- Track stake changes over epochs to detect delegation trends."
   ]
  },
  {
   "cell_type": "code",
   "execution_count": 21,
   "id": "6f79b77c",
   "metadata": {},
   "outputs": [
    {
     "name": "stdout",
     "output_type": "stream",
     "text": [
      "                            timestamp                                    nodePubkey  commission  activatedStake   lastVote   rootSlot  epochVoteAccount  epoch    credits  previous_credits  \\\n",
      "5712 2025-05-03 15:12:06.454599+00:00  138KHwTqKNWGLoo8fK5i8UxYtwoC5tC8o7M9rY1CDEjT           0  46599789909708  337578237  337578206              True    777  629035066         622143555   \n",
      "5713 2025-05-03 15:12:06.454599+00:00  138KHwTqKNWGLoo8fK5i8UxYtwoC5tC8o7M9rY1CDEjT           0  46599789909708  337578237  337578206              True    778  635925863         629035066   \n",
      "5714 2025-05-03 15:12:06.454599+00:00  138KHwTqKNWGLoo8fK5i8UxYtwoC5tC8o7M9rY1CDEjT           0  46599789909708  337578237  337578206              True    779  642817650         635925863   \n",
      "5715 2025-05-03 15:12:06.454599+00:00  138KHwTqKNWGLoo8fK5i8UxYtwoC5tC8o7M9rY1CDEjT           0  46599789909708  337578237  337578206              True    780  649701256         642817650   \n",
      "5716 2025-05-03 15:12:06.454599+00:00  138KHwTqKNWGLoo8fK5i8UxYtwoC5tC8o7M9rY1CDEjT           0  46599789909708  337578237  337578206              True    781  652673565         649701256   \n",
      "...                               ...                                           ...         ...             ...        ...        ...               ...    ...        ...               ...   \n",
      "5864 2025-05-03 15:12:06.454599+00:00   zeroT6PTAEjipvZuACTh1mbGCqTHgA6i1ped9DcuidX           5  30013736077359  337578237  337578206              True    777  732425259         725552946   \n",
      "5865 2025-05-03 15:12:06.454599+00:00   zeroT6PTAEjipvZuACTh1mbGCqTHgA6i1ped9DcuidX           5  30013736077359  337578237  337578206              True    778  739299580         732425259   \n",
      "5866 2025-05-03 15:12:06.454599+00:00   zeroT6PTAEjipvZuACTh1mbGCqTHgA6i1ped9DcuidX           5  30013736077359  337578237  337578206              True    779  746171427         739299580   \n",
      "5867 2025-05-03 15:12:06.454599+00:00   zeroT6PTAEjipvZuACTh1mbGCqTHgA6i1ped9DcuidX           5  30013736077359  337578237  337578206              True    780  753030725         746171427   \n",
      "5868 2025-05-03 15:12:06.454599+00:00   zeroT6PTAEjipvZuACTh1mbGCqTHgA6i1ped9DcuidX           5  30013736077359  337578237  337578206              True    781  755988279         753030725   \n",
      "\n",
      "      credits_earned                                    votePubkey  epoch_return        APY  activated_stake_sol  \n",
      "5712         6891511  ASfKFAKz6fH4eip1jdLGt5Ym954kU9KYnwq2Csn9ogSz    0.00000015 0.00002699       46599.78990971  \n",
      "5713         6890797  ASfKFAKz6fH4eip1jdLGt5Ym954kU9KYnwq2Csn9ogSz    0.00000015 0.00002699       46599.78990971  \n",
      "5714         6891787  ASfKFAKz6fH4eip1jdLGt5Ym954kU9KYnwq2Csn9ogSz    0.00000015 0.00002699       46599.78990971  \n",
      "5715         6883606  ASfKFAKz6fH4eip1jdLGt5Ym954kU9KYnwq2Csn9ogSz    0.00000015 0.00002696       46599.78990971  \n",
      "5716         2972309  ASfKFAKz6fH4eip1jdLGt5Ym954kU9KYnwq2Csn9ogSz    0.00000006 0.00001164       46599.78990971  \n",
      "...              ...                                           ...           ...        ...                  ...  \n",
      "5864         6872313  5BAi9YGCipHq4ZcXuen5vagRQqRTVTRszXNqBZC6uBPZ    0.00000023 0.00004179       30013.73607736  \n",
      "5865         6874321  5BAi9YGCipHq4ZcXuen5vagRQqRTVTRszXNqBZC6uBPZ    0.00000023 0.00004180       30013.73607736  \n",
      "5866         6871847  5BAi9YGCipHq4ZcXuen5vagRQqRTVTRszXNqBZC6uBPZ    0.00000023 0.00004179       30013.73607736  \n",
      "5867         6859298  5BAi9YGCipHq4ZcXuen5vagRQqRTVTRszXNqBZC6uBPZ    0.00000023 0.00004171       30013.73607736  \n",
      "5868         2957554  5BAi9YGCipHq4ZcXuen5vagRQqRTVTRszXNqBZC6uBPZ    0.00000010 0.00001798       30013.73607736  \n",
      "\n",
      "[6688 rows x 15 columns]\n"
     ]
    }
   ],
   "source": [
    "df_expanded['activated_stake_sol'] = df_expanded['activatedStake'] / 1e9\n",
    "print(df_expanded)"
   ]
  },
  {
   "cell_type": "markdown",
   "id": "bed56a0a",
   "metadata": {},
   "source": [
    "### Uptime\n",
    "\n",
    " Solana has ~432,000 slots per epoch (2.5 slots/sec)."
   ]
  },
  {
   "cell_type": "code",
   "execution_count": 22,
   "id": "d639be40",
   "metadata": {},
   "outputs": [],
   "source": [
    "slots_per_epoch = 432000\n",
    "df_expanded['uptime_pct'] = (df_expanded[\"credits_earned\"] / slots_per_epoch) * 100\n",
    "\n"
   ]
  },
  {
   "cell_type": "markdown",
   "id": "e92fdd7b",
   "metadata": {},
   "source": [
    "#### Vote Success Rate\n",
    "\n",
    "If credits_earned > slots, use lastVote and rootSlot instead.\n",
    "\n"
   ]
  },
  {
   "cell_type": "code",
   "execution_count": 23,
   "id": "c3dd9cae",
   "metadata": {},
   "outputs": [],
   "source": [
    "successful_votes = df_expanded['lastVote'] - df_expanded['rootSlot']\n",
    "df_expanded['uptime_pct'] = (successful_votes / slots_per_epoch) * 100"
   ]
  },
  {
   "cell_type": "markdown",
   "id": "0473ed5a",
   "metadata": {},
   "source": [
    "#### Vote Lag\n",
    "vote_lag shows how many slots the validator lags behind.\n",
    "\n",
    "#### Lagging \n",
    "A consistent high lag can suggest downtime or poor performance"
   ]
  },
  {
   "cell_type": "code",
   "execution_count": 24,
   "id": "28f38005",
   "metadata": {},
   "outputs": [
    {
     "data": {
      "text/html": [
       "<div>\n",
       "<style scoped>\n",
       "    .dataframe tbody tr th:only-of-type {\n",
       "        vertical-align: middle;\n",
       "    }\n",
       "\n",
       "    .dataframe tbody tr th {\n",
       "        vertical-align: top;\n",
       "    }\n",
       "\n",
       "    .dataframe thead th {\n",
       "        text-align: right;\n",
       "    }\n",
       "</style>\n",
       "<table border=\"1\" class=\"dataframe\">\n",
       "  <thead>\n",
       "    <tr style=\"text-align: right;\">\n",
       "      <th></th>\n",
       "      <th>timestamp</th>\n",
       "      <th>nodePubkey</th>\n",
       "      <th>commission</th>\n",
       "      <th>activatedStake</th>\n",
       "      <th>lastVote</th>\n",
       "      <th>rootSlot</th>\n",
       "      <th>epochVoteAccount</th>\n",
       "      <th>epoch</th>\n",
       "      <th>credits</th>\n",
       "      <th>previous_credits</th>\n",
       "      <th>credits_earned</th>\n",
       "      <th>votePubkey</th>\n",
       "      <th>epoch_return</th>\n",
       "      <th>APY</th>\n",
       "      <th>activated_stake_sol</th>\n",
       "      <th>uptime_pct</th>\n",
       "      <th>vote_lag</th>\n",
       "      <th>lagging</th>\n",
       "    </tr>\n",
       "  </thead>\n",
       "  <tbody>\n",
       "    <tr>\n",
       "      <th>5712</th>\n",
       "      <td>2025-05-03 15:12:06.454599+00:00</td>\n",
       "      <td>138KHwTqKNWGLoo8fK5i8UxYtwoC5tC8o7M9rY1CDEjT</td>\n",
       "      <td>0</td>\n",
       "      <td>46599789909708</td>\n",
       "      <td>337578237</td>\n",
       "      <td>337578206</td>\n",
       "      <td>True</td>\n",
       "      <td>777</td>\n",
       "      <td>629035066</td>\n",
       "      <td>622143555</td>\n",
       "      <td>6891511</td>\n",
       "      <td>ASfKFAKz6fH4eip1jdLGt5Ym954kU9KYnwq2Csn9ogSz</td>\n",
       "      <td>0.00000015</td>\n",
       "      <td>0.00002699</td>\n",
       "      <td>46599.78990971</td>\n",
       "      <td>0.00717593</td>\n",
       "      <td>-31</td>\n",
       "      <td>False</td>\n",
       "    </tr>\n",
       "    <tr>\n",
       "      <th>5713</th>\n",
       "      <td>2025-05-03 15:12:06.454599+00:00</td>\n",
       "      <td>138KHwTqKNWGLoo8fK5i8UxYtwoC5tC8o7M9rY1CDEjT</td>\n",
       "      <td>0</td>\n",
       "      <td>46599789909708</td>\n",
       "      <td>337578237</td>\n",
       "      <td>337578206</td>\n",
       "      <td>True</td>\n",
       "      <td>778</td>\n",
       "      <td>635925863</td>\n",
       "      <td>629035066</td>\n",
       "      <td>6890797</td>\n",
       "      <td>ASfKFAKz6fH4eip1jdLGt5Ym954kU9KYnwq2Csn9ogSz</td>\n",
       "      <td>0.00000015</td>\n",
       "      <td>0.00002699</td>\n",
       "      <td>46599.78990971</td>\n",
       "      <td>0.00717593</td>\n",
       "      <td>-31</td>\n",
       "      <td>False</td>\n",
       "    </tr>\n",
       "    <tr>\n",
       "      <th>5714</th>\n",
       "      <td>2025-05-03 15:12:06.454599+00:00</td>\n",
       "      <td>138KHwTqKNWGLoo8fK5i8UxYtwoC5tC8o7M9rY1CDEjT</td>\n",
       "      <td>0</td>\n",
       "      <td>46599789909708</td>\n",
       "      <td>337578237</td>\n",
       "      <td>337578206</td>\n",
       "      <td>True</td>\n",
       "      <td>779</td>\n",
       "      <td>642817650</td>\n",
       "      <td>635925863</td>\n",
       "      <td>6891787</td>\n",
       "      <td>ASfKFAKz6fH4eip1jdLGt5Ym954kU9KYnwq2Csn9ogSz</td>\n",
       "      <td>0.00000015</td>\n",
       "      <td>0.00002699</td>\n",
       "      <td>46599.78990971</td>\n",
       "      <td>0.00717593</td>\n",
       "      <td>-31</td>\n",
       "      <td>False</td>\n",
       "    </tr>\n",
       "    <tr>\n",
       "      <th>5715</th>\n",
       "      <td>2025-05-03 15:12:06.454599+00:00</td>\n",
       "      <td>138KHwTqKNWGLoo8fK5i8UxYtwoC5tC8o7M9rY1CDEjT</td>\n",
       "      <td>0</td>\n",
       "      <td>46599789909708</td>\n",
       "      <td>337578237</td>\n",
       "      <td>337578206</td>\n",
       "      <td>True</td>\n",
       "      <td>780</td>\n",
       "      <td>649701256</td>\n",
       "      <td>642817650</td>\n",
       "      <td>6883606</td>\n",
       "      <td>ASfKFAKz6fH4eip1jdLGt5Ym954kU9KYnwq2Csn9ogSz</td>\n",
       "      <td>0.00000015</td>\n",
       "      <td>0.00002696</td>\n",
       "      <td>46599.78990971</td>\n",
       "      <td>0.00717593</td>\n",
       "      <td>-31</td>\n",
       "      <td>False</td>\n",
       "    </tr>\n",
       "    <tr>\n",
       "      <th>5716</th>\n",
       "      <td>2025-05-03 15:12:06.454599+00:00</td>\n",
       "      <td>138KHwTqKNWGLoo8fK5i8UxYtwoC5tC8o7M9rY1CDEjT</td>\n",
       "      <td>0</td>\n",
       "      <td>46599789909708</td>\n",
       "      <td>337578237</td>\n",
       "      <td>337578206</td>\n",
       "      <td>True</td>\n",
       "      <td>781</td>\n",
       "      <td>652673565</td>\n",
       "      <td>649701256</td>\n",
       "      <td>2972309</td>\n",
       "      <td>ASfKFAKz6fH4eip1jdLGt5Ym954kU9KYnwq2Csn9ogSz</td>\n",
       "      <td>0.00000006</td>\n",
       "      <td>0.00001164</td>\n",
       "      <td>46599.78990971</td>\n",
       "      <td>0.00717593</td>\n",
       "      <td>-31</td>\n",
       "      <td>False</td>\n",
       "    </tr>\n",
       "  </tbody>\n",
       "</table>\n",
       "</div>"
      ],
      "text/plain": [
       "                            timestamp                                    nodePubkey  commission  activatedStake   lastVote   rootSlot  epochVoteAccount  epoch    credits  previous_credits  \\\n",
       "5712 2025-05-03 15:12:06.454599+00:00  138KHwTqKNWGLoo8fK5i8UxYtwoC5tC8o7M9rY1CDEjT           0  46599789909708  337578237  337578206              True    777  629035066         622143555   \n",
       "5713 2025-05-03 15:12:06.454599+00:00  138KHwTqKNWGLoo8fK5i8UxYtwoC5tC8o7M9rY1CDEjT           0  46599789909708  337578237  337578206              True    778  635925863         629035066   \n",
       "5714 2025-05-03 15:12:06.454599+00:00  138KHwTqKNWGLoo8fK5i8UxYtwoC5tC8o7M9rY1CDEjT           0  46599789909708  337578237  337578206              True    779  642817650         635925863   \n",
       "5715 2025-05-03 15:12:06.454599+00:00  138KHwTqKNWGLoo8fK5i8UxYtwoC5tC8o7M9rY1CDEjT           0  46599789909708  337578237  337578206              True    780  649701256         642817650   \n",
       "5716 2025-05-03 15:12:06.454599+00:00  138KHwTqKNWGLoo8fK5i8UxYtwoC5tC8o7M9rY1CDEjT           0  46599789909708  337578237  337578206              True    781  652673565         649701256   \n",
       "\n",
       "      credits_earned                                    votePubkey  epoch_return        APY  activated_stake_sol  uptime_pct  vote_lag  lagging  \n",
       "5712         6891511  ASfKFAKz6fH4eip1jdLGt5Ym954kU9KYnwq2Csn9ogSz    0.00000015 0.00002699       46599.78990971  0.00717593       -31    False  \n",
       "5713         6890797  ASfKFAKz6fH4eip1jdLGt5Ym954kU9KYnwq2Csn9ogSz    0.00000015 0.00002699       46599.78990971  0.00717593       -31    False  \n",
       "5714         6891787  ASfKFAKz6fH4eip1jdLGt5Ym954kU9KYnwq2Csn9ogSz    0.00000015 0.00002699       46599.78990971  0.00717593       -31    False  \n",
       "5715         6883606  ASfKFAKz6fH4eip1jdLGt5Ym954kU9KYnwq2Csn9ogSz    0.00000015 0.00002696       46599.78990971  0.00717593       -31    False  \n",
       "5716         2972309  ASfKFAKz6fH4eip1jdLGt5Ym954kU9KYnwq2Csn9ogSz    0.00000006 0.00001164       46599.78990971  0.00717593       -31    False  "
      ]
     },
     "execution_count": 24,
     "metadata": {},
     "output_type": "execute_result"
    }
   ],
   "source": [
    "threshold = 100\n",
    "df_expanded['vote_lag'] = df_expanded['rootSlot'] - df_expanded['lastVote']\n",
    "df_expanded['lagging'] = df_expanded['vote_lag'] > threshold\n",
    "\n",
    "df_expanded.head()\n"
   ]
  },
  {
   "cell_type": "code",
   "execution_count": 25,
   "id": "460ba7d7",
   "metadata": {},
   "outputs": [
    {
     "data": {
      "text/plain": [
       "[-31, -32]"
      ]
     },
     "execution_count": 25,
     "metadata": {},
     "output_type": "execute_result"
    }
   ],
   "source": [
    "df_expanded['vote_lag'].unique().tolist()"
   ]
  },
  {
   "cell_type": "code",
   "execution_count": null,
   "id": "73e96ced",
   "metadata": {},
   "outputs": [],
   "source": []
  }
 ],
 "metadata": {
  "kernelspec": {
   "display_name": "solana-predict",
   "language": "python",
   "name": "python3"
  },
  "language_info": {
   "codemirror_mode": {
    "name": "ipython",
    "version": 3
   },
   "file_extension": ".py",
   "mimetype": "text/x-python",
   "name": "python",
   "nbconvert_exporter": "python",
   "pygments_lexer": "ipython3",
   "version": "3.10.16"
  }
 },
 "nbformat": 4,
 "nbformat_minor": 5
}
